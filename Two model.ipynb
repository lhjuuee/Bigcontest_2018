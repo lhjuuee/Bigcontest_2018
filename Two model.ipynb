{
 "cells": [
  {
   "cell_type": "code",
   "execution_count": 1,
   "metadata": {},
   "outputs": [],
   "source": [
    "import pandas as pd\n",
    "import numpy as np\n",
    "import matplotlib.pyplot as plt\n",
    "import seaborn as sns\n",
    "sns.set(style=\"ticks\", color_codes=True)"
   ]
  },
  {
   "cell_type": "markdown",
   "metadata": {},
   "source": [
    "# Data load"
   ]
  },
  {
   "cell_type": "code",
   "execution_count": 2,
   "metadata": {},
   "outputs": [],
   "source": [
    "train_activity = pd.read_csv('C:/Bigcontest/train_activity.csv')\n",
    "test_activity = pd.read_csv('C:/Bigcontest/test_activity.csv')\n",
    "train_label = pd.read_csv('C:/Bigcontest/train_label.csv')"
   ]
  },
  {
   "cell_type": "markdown",
   "metadata": {},
   "source": [
    "# groupby.mean"
   ]
  },
  {
   "cell_type": "code",
   "execution_count": 3,
   "metadata": {},
   "outputs": [],
   "source": [
    "train_activity_mean = train_activity.groupby(['acc_id'], as_index=False).mean()\n",
    "test_activity_mean  = test_activity.groupby(['acc_id'], as_index=False).mean()"
   ]
  },
  {
   "cell_type": "markdown",
   "metadata": {},
   "source": [
    "# Add 'label' "
   ]
  },
  {
   "cell_type": "code",
   "execution_count": 4,
   "metadata": {},
   "outputs": [],
   "source": [
    "train_activity_label = pd.merge(train_activity_mean, train_label, how='outer', on='acc_id')"
   ]
  },
  {
   "cell_type": "markdown",
   "metadata": {},
   "source": [
    "## Divide into train set and test set. (Stratified)"
   ]
  },
  {
   "cell_type": "code",
   "execution_count": 5,
   "metadata": {},
   "outputs": [],
   "source": [
    "from sklearn.model_selection import StratifiedShuffleSplit\n",
    "\n",
    "split = StratifiedShuffleSplit(n_splits=1, test_size=0.3, random_state=42)\n",
    "for train_index, test_index in split.split(train_activity_label, train_activity_label['label']):\n",
    "    strat_train_set = train_activity_label.loc[train_index]\n",
    "    strat_test_set = train_activity_label.loc[test_index]"
   ]
  },
  {
   "cell_type": "code",
   "execution_count": 6,
   "metadata": {},
   "outputs": [
    {
     "data": {
      "text/html": [
       "<div>\n",
       "<style scoped>\n",
       "    .dataframe tbody tr th:only-of-type {\n",
       "        vertical-align: middle;\n",
       "    }\n",
       "\n",
       "    .dataframe tbody tr th {\n",
       "        vertical-align: top;\n",
       "    }\n",
       "\n",
       "    .dataframe thead th {\n",
       "        text-align: right;\n",
       "    }\n",
       "</style>\n",
       "<table border=\"1\" class=\"dataframe\">\n",
       "  <thead>\n",
       "    <tr style=\"text-align: right;\">\n",
       "      <th></th>\n",
       "      <th>acc_id</th>\n",
       "      <th>wk</th>\n",
       "      <th>cnt_dt</th>\n",
       "      <th>play_time</th>\n",
       "      <th>npc_exp</th>\n",
       "      <th>npc_hongmun</th>\n",
       "      <th>quest_exp</th>\n",
       "      <th>quest_hongmun</th>\n",
       "      <th>item_hongmun</th>\n",
       "      <th>game_combat_time</th>\n",
       "      <th>...</th>\n",
       "      <th>normal_chat</th>\n",
       "      <th>whisper_chat</th>\n",
       "      <th>district_chat</th>\n",
       "      <th>party_chat</th>\n",
       "      <th>guild_chat</th>\n",
       "      <th>faction_chat</th>\n",
       "      <th>cnt_use_buffitem</th>\n",
       "      <th>gathering_cnt</th>\n",
       "      <th>making_cnt</th>\n",
       "      <th>label</th>\n",
       "    </tr>\n",
       "  </thead>\n",
       "  <tbody>\n",
       "    <tr>\n",
       "      <th>9787</th>\n",
       "      <td>18af352a486615c71e794eabd7de7dcbcfaaa8025d8c72...</td>\n",
       "      <td>5.0</td>\n",
       "      <td>4.833333</td>\n",
       "      <td>-0.528608</td>\n",
       "      <td>-0.157050</td>\n",
       "      <td>-0.286200</td>\n",
       "      <td>-0.027648</td>\n",
       "      <td>-0.153857</td>\n",
       "      <td>-0.302199</td>\n",
       "      <td>-0.476031</td>\n",
       "      <td>...</td>\n",
       "      <td>-0.032859</td>\n",
       "      <td>-0.161998</td>\n",
       "      <td>-0.016574</td>\n",
       "      <td>-0.268693</td>\n",
       "      <td>-0.343293</td>\n",
       "      <td>-0.024028</td>\n",
       "      <td>-0.389936</td>\n",
       "      <td>-0.027758</td>\n",
       "      <td>-0.365536</td>\n",
       "      <td>month</td>\n",
       "    </tr>\n",
       "    <tr>\n",
       "      <th>54039</th>\n",
       "      <td>89f84ffac2303e3ce14df60c77c834d04de191ab467738...</td>\n",
       "      <td>8.0</td>\n",
       "      <td>3.000000</td>\n",
       "      <td>-0.659798</td>\n",
       "      <td>-0.231874</td>\n",
       "      <td>-0.290803</td>\n",
       "      <td>-0.250423</td>\n",
       "      <td>-0.487666</td>\n",
       "      <td>-0.306354</td>\n",
       "      <td>-0.569842</td>\n",
       "      <td>...</td>\n",
       "      <td>-0.034038</td>\n",
       "      <td>-0.231827</td>\n",
       "      <td>-0.016574</td>\n",
       "      <td>-0.275174</td>\n",
       "      <td>-0.343293</td>\n",
       "      <td>-0.024028</td>\n",
       "      <td>-0.503692</td>\n",
       "      <td>-0.027758</td>\n",
       "      <td>-0.365536</td>\n",
       "      <td>month</td>\n",
       "    </tr>\n",
       "    <tr>\n",
       "      <th>62298</th>\n",
       "      <td>9f47d2a51bc7558b9a413b91c31fc88745278f199173a5...</td>\n",
       "      <td>8.0</td>\n",
       "      <td>6.000000</td>\n",
       "      <td>2.075927</td>\n",
       "      <td>1.362542</td>\n",
       "      <td>0.417022</td>\n",
       "      <td>1.968807</td>\n",
       "      <td>1.861860</td>\n",
       "      <td>-0.136000</td>\n",
       "      <td>2.890492</td>\n",
       "      <td>...</td>\n",
       "      <td>0.082671</td>\n",
       "      <td>-0.231827</td>\n",
       "      <td>-0.016574</td>\n",
       "      <td>-0.275174</td>\n",
       "      <td>-0.343293</td>\n",
       "      <td>-0.024028</td>\n",
       "      <td>2.632727</td>\n",
       "      <td>-0.027758</td>\n",
       "      <td>2.174423</td>\n",
       "      <td>week</td>\n",
       "    </tr>\n",
       "    <tr>\n",
       "      <th>59818</th>\n",
       "      <td>98cf8ba124fd558aa93872b166090d85d6546425985ea8...</td>\n",
       "      <td>4.5</td>\n",
       "      <td>6.750000</td>\n",
       "      <td>-0.264199</td>\n",
       "      <td>-0.231874</td>\n",
       "      <td>-0.157795</td>\n",
       "      <td>-0.250423</td>\n",
       "      <td>-0.418289</td>\n",
       "      <td>-0.256754</td>\n",
       "      <td>-0.096771</td>\n",
       "      <td>...</td>\n",
       "      <td>-0.034038</td>\n",
       "      <td>-0.150189</td>\n",
       "      <td>-0.016574</td>\n",
       "      <td>-0.275174</td>\n",
       "      <td>-0.343293</td>\n",
       "      <td>-0.024028</td>\n",
       "      <td>-0.029708</td>\n",
       "      <td>-0.027758</td>\n",
       "      <td>-0.365536</td>\n",
       "      <td>month</td>\n",
       "    </tr>\n",
       "    <tr>\n",
       "      <th>15127</th>\n",
       "      <td>2659b4179d6c19405562c617d86510a14882196d816524...</td>\n",
       "      <td>6.0</td>\n",
       "      <td>6.200000</td>\n",
       "      <td>2.113040</td>\n",
       "      <td>2.264012</td>\n",
       "      <td>0.259738</td>\n",
       "      <td>1.954970</td>\n",
       "      <td>1.509933</td>\n",
       "      <td>-0.041682</td>\n",
       "      <td>2.412227</td>\n",
       "      <td>...</td>\n",
       "      <td>0.048012</td>\n",
       "      <td>0.024486</td>\n",
       "      <td>-0.016574</td>\n",
       "      <td>-0.129137</td>\n",
       "      <td>-0.343293</td>\n",
       "      <td>-0.024028</td>\n",
       "      <td>1.627340</td>\n",
       "      <td>-0.027758</td>\n",
       "      <td>-0.365536</td>\n",
       "      <td>retained</td>\n",
       "    </tr>\n",
       "  </tbody>\n",
       "</table>\n",
       "<p>5 rows × 39 columns</p>\n",
       "</div>"
      ],
      "text/plain": [
       "                                                  acc_id   wk    cnt_dt  \\\n",
       "9787   18af352a486615c71e794eabd7de7dcbcfaaa8025d8c72...  5.0  4.833333   \n",
       "54039  89f84ffac2303e3ce14df60c77c834d04de191ab467738...  8.0  3.000000   \n",
       "62298  9f47d2a51bc7558b9a413b91c31fc88745278f199173a5...  8.0  6.000000   \n",
       "59818  98cf8ba124fd558aa93872b166090d85d6546425985ea8...  4.5  6.750000   \n",
       "15127  2659b4179d6c19405562c617d86510a14882196d816524...  6.0  6.200000   \n",
       "\n",
       "       play_time   npc_exp  npc_hongmun  quest_exp  quest_hongmun  \\\n",
       "9787   -0.528608 -0.157050    -0.286200  -0.027648      -0.153857   \n",
       "54039  -0.659798 -0.231874    -0.290803  -0.250423      -0.487666   \n",
       "62298   2.075927  1.362542     0.417022   1.968807       1.861860   \n",
       "59818  -0.264199 -0.231874    -0.157795  -0.250423      -0.418289   \n",
       "15127   2.113040  2.264012     0.259738   1.954970       1.509933   \n",
       "\n",
       "       item_hongmun  game_combat_time    ...     normal_chat  whisper_chat  \\\n",
       "9787      -0.302199         -0.476031    ...       -0.032859     -0.161998   \n",
       "54039     -0.306354         -0.569842    ...       -0.034038     -0.231827   \n",
       "62298     -0.136000          2.890492    ...        0.082671     -0.231827   \n",
       "59818     -0.256754         -0.096771    ...       -0.034038     -0.150189   \n",
       "15127     -0.041682          2.412227    ...        0.048012      0.024486   \n",
       "\n",
       "       district_chat  party_chat  guild_chat  faction_chat  cnt_use_buffitem  \\\n",
       "9787       -0.016574   -0.268693   -0.343293     -0.024028         -0.389936   \n",
       "54039      -0.016574   -0.275174   -0.343293     -0.024028         -0.503692   \n",
       "62298      -0.016574   -0.275174   -0.343293     -0.024028          2.632727   \n",
       "59818      -0.016574   -0.275174   -0.343293     -0.024028         -0.029708   \n",
       "15127      -0.016574   -0.129137   -0.343293     -0.024028          1.627340   \n",
       "\n",
       "       gathering_cnt  making_cnt     label  \n",
       "9787       -0.027758   -0.365536     month  \n",
       "54039      -0.027758   -0.365536     month  \n",
       "62298      -0.027758    2.174423      week  \n",
       "59818      -0.027758   -0.365536     month  \n",
       "15127      -0.027758   -0.365536  retained  \n",
       "\n",
       "[5 rows x 39 columns]"
      ]
     },
     "execution_count": 6,
     "metadata": {},
     "output_type": "execute_result"
    }
   ],
   "source": [
    "strat_train_set.head()"
   ]
  },
  {
   "cell_type": "code",
   "execution_count": 7,
   "metadata": {},
   "outputs": [
    {
     "name": "stdout",
     "output_type": "stream",
     "text": [
      "<class 'pandas.core.frame.DataFrame'>\n",
      "Int64Index: 70000 entries, 9787 to 77718\n",
      "Data columns (total 39 columns):\n",
      "acc_id                      70000 non-null object\n",
      "wk                          70000 non-null float64\n",
      "cnt_dt                      70000 non-null float64\n",
      "play_time                   70000 non-null float64\n",
      "npc_exp                     70000 non-null float64\n",
      "npc_hongmun                 70000 non-null float64\n",
      "quest_exp                   70000 non-null float64\n",
      "quest_hongmun               70000 non-null float64\n",
      "item_hongmun                70000 non-null float64\n",
      "game_combat_time            70000 non-null float64\n",
      "get_money                   70000 non-null float64\n",
      "duel_cnt                    70000 non-null float64\n",
      "duel_win                    70000 non-null float64\n",
      "partybattle_cnt             70000 non-null float64\n",
      "partybattle_win             70000 non-null float64\n",
      "cnt_enter_inzone_solo       70000 non-null float64\n",
      "cnt_enter_inzone_light      70000 non-null float64\n",
      "cnt_enter_inzone_skilled    70000 non-null float64\n",
      "cnt_enter_inzone_normal     70000 non-null float64\n",
      "cnt_enter_raid              70000 non-null float64\n",
      "cnt_enter_raid_light        70000 non-null float64\n",
      "cnt_enter_bam               70000 non-null float64\n",
      "cnt_clear_inzone_solo       70000 non-null float64\n",
      "cnt_clear_inzone_light      70000 non-null float64\n",
      "cnt_clear_inzone_skilled    70000 non-null float64\n",
      "cnt_clear_inzone_normal     70000 non-null float64\n",
      "cnt_clear_raid              70000 non-null float64\n",
      "cnt_clear_raid_light        70000 non-null float64\n",
      "cnt_clear_bam               70000 non-null float64\n",
      "normal_chat                 70000 non-null float64\n",
      "whisper_chat                70000 non-null float64\n",
      "district_chat               70000 non-null float64\n",
      "party_chat                  70000 non-null float64\n",
      "guild_chat                  70000 non-null float64\n",
      "faction_chat                70000 non-null float64\n",
      "cnt_use_buffitem            70000 non-null float64\n",
      "gathering_cnt               70000 non-null float64\n",
      "making_cnt                  70000 non-null float64\n",
      "label                       70000 non-null object\n",
      "dtypes: float64(37), object(2)\n",
      "memory usage: 21.4+ MB\n"
     ]
    }
   ],
   "source": [
    "strat_train_set.info()"
   ]
  },
  {
   "cell_type": "code",
   "execution_count": 8,
   "metadata": {},
   "outputs": [
    {
     "name": "stdout",
     "output_type": "stream",
     "text": [
      "<class 'pandas.core.frame.DataFrame'>\n",
      "Int64Index: 30000 entries, 33550 to 18978\n",
      "Data columns (total 39 columns):\n",
      "acc_id                      30000 non-null object\n",
      "wk                          30000 non-null float64\n",
      "cnt_dt                      30000 non-null float64\n",
      "play_time                   30000 non-null float64\n",
      "npc_exp                     30000 non-null float64\n",
      "npc_hongmun                 30000 non-null float64\n",
      "quest_exp                   30000 non-null float64\n",
      "quest_hongmun               30000 non-null float64\n",
      "item_hongmun                30000 non-null float64\n",
      "game_combat_time            30000 non-null float64\n",
      "get_money                   30000 non-null float64\n",
      "duel_cnt                    30000 non-null float64\n",
      "duel_win                    30000 non-null float64\n",
      "partybattle_cnt             30000 non-null float64\n",
      "partybattle_win             30000 non-null float64\n",
      "cnt_enter_inzone_solo       30000 non-null float64\n",
      "cnt_enter_inzone_light      30000 non-null float64\n",
      "cnt_enter_inzone_skilled    30000 non-null float64\n",
      "cnt_enter_inzone_normal     30000 non-null float64\n",
      "cnt_enter_raid              30000 non-null float64\n",
      "cnt_enter_raid_light        30000 non-null float64\n",
      "cnt_enter_bam               30000 non-null float64\n",
      "cnt_clear_inzone_solo       30000 non-null float64\n",
      "cnt_clear_inzone_light      30000 non-null float64\n",
      "cnt_clear_inzone_skilled    30000 non-null float64\n",
      "cnt_clear_inzone_normal     30000 non-null float64\n",
      "cnt_clear_raid              30000 non-null float64\n",
      "cnt_clear_raid_light        30000 non-null float64\n",
      "cnt_clear_bam               30000 non-null float64\n",
      "normal_chat                 30000 non-null float64\n",
      "whisper_chat                30000 non-null float64\n",
      "district_chat               30000 non-null float64\n",
      "party_chat                  30000 non-null float64\n",
      "guild_chat                  30000 non-null float64\n",
      "faction_chat                30000 non-null float64\n",
      "cnt_use_buffitem            30000 non-null float64\n",
      "gathering_cnt               30000 non-null float64\n",
      "making_cnt                  30000 non-null float64\n",
      "label                       30000 non-null object\n",
      "dtypes: float64(37), object(2)\n",
      "memory usage: 9.2+ MB\n"
     ]
    }
   ],
   "source": [
    "strat_test_set.info()"
   ]
  },
  {
   "cell_type": "code",
   "execution_count": 9,
   "metadata": {},
   "outputs": [
    {
     "data": {
      "text/plain": [
       "month       17500\n",
       "2month      17500\n",
       "retained    17500\n",
       "week        17500\n",
       "Name: label, dtype: int64"
      ]
     },
     "execution_count": 9,
     "metadata": {},
     "output_type": "execute_result"
    }
   ],
   "source": [
    "strat_train_set['label'].value_counts()"
   ]
  },
  {
   "cell_type": "code",
   "execution_count": 10,
   "metadata": {},
   "outputs": [
    {
     "data": {
      "text/plain": [
       "week        7500\n",
       "month       7500\n",
       "2month      7500\n",
       "retained    7500\n",
       "Name: label, dtype: int64"
      ]
     },
     "execution_count": 10,
     "metadata": {},
     "output_type": "execute_result"
    }
   ],
   "source": [
    "strat_test_set['label'].value_counts()"
   ]
  },
  {
   "cell_type": "markdown",
   "metadata": {},
   "source": [
    "# Attributes Drop(not yet)"
   ]
  },
  {
   "cell_type": "code",
   "execution_count": 11,
   "metadata": {},
   "outputs": [],
   "source": [
    "strat_train_set_drop = strat_train_set\n",
    "strat_test_set_drop = strat_test_set"
   ]
  },
  {
   "cell_type": "code",
   "execution_count": 12,
   "metadata": {},
   "outputs": [
    {
     "name": "stdout",
     "output_type": "stream",
     "text": [
      "<class 'pandas.core.frame.DataFrame'>\n",
      "Int64Index: 70000 entries, 9787 to 77718\n",
      "Data columns (total 39 columns):\n",
      "acc_id                      70000 non-null object\n",
      "wk                          70000 non-null float64\n",
      "cnt_dt                      70000 non-null float64\n",
      "play_time                   70000 non-null float64\n",
      "npc_exp                     70000 non-null float64\n",
      "npc_hongmun                 70000 non-null float64\n",
      "quest_exp                   70000 non-null float64\n",
      "quest_hongmun               70000 non-null float64\n",
      "item_hongmun                70000 non-null float64\n",
      "game_combat_time            70000 non-null float64\n",
      "get_money                   70000 non-null float64\n",
      "duel_cnt                    70000 non-null float64\n",
      "duel_win                    70000 non-null float64\n",
      "partybattle_cnt             70000 non-null float64\n",
      "partybattle_win             70000 non-null float64\n",
      "cnt_enter_inzone_solo       70000 non-null float64\n",
      "cnt_enter_inzone_light      70000 non-null float64\n",
      "cnt_enter_inzone_skilled    70000 non-null float64\n",
      "cnt_enter_inzone_normal     70000 non-null float64\n",
      "cnt_enter_raid              70000 non-null float64\n",
      "cnt_enter_raid_light        70000 non-null float64\n",
      "cnt_enter_bam               70000 non-null float64\n",
      "cnt_clear_inzone_solo       70000 non-null float64\n",
      "cnt_clear_inzone_light      70000 non-null float64\n",
      "cnt_clear_inzone_skilled    70000 non-null float64\n",
      "cnt_clear_inzone_normal     70000 non-null float64\n",
      "cnt_clear_raid              70000 non-null float64\n",
      "cnt_clear_raid_light        70000 non-null float64\n",
      "cnt_clear_bam               70000 non-null float64\n",
      "normal_chat                 70000 non-null float64\n",
      "whisper_chat                70000 non-null float64\n",
      "district_chat               70000 non-null float64\n",
      "party_chat                  70000 non-null float64\n",
      "guild_chat                  70000 non-null float64\n",
      "faction_chat                70000 non-null float64\n",
      "cnt_use_buffitem            70000 non-null float64\n",
      "gathering_cnt               70000 non-null float64\n",
      "making_cnt                  70000 non-null float64\n",
      "label                       70000 non-null object\n",
      "dtypes: float64(37), object(2)\n",
      "memory usage: 21.4+ MB\n"
     ]
    }
   ],
   "source": [
    "strat_train_set_drop.info()"
   ]
  },
  {
   "cell_type": "markdown",
   "metadata": {},
   "source": [
    "# First Model"
   ]
  },
  {
   "cell_type": "code",
   "execution_count": 13,
   "metadata": {},
   "outputs": [],
   "source": [
    "from sklearn.ensemble import RandomForestClassifier\n",
    "from sklearn.model_selection import KFold\n",
    "from sklearn.model_selection import cross_val_score\n",
    "from sklearn.model_selection import StratifiedKFold"
   ]
  },
  {
   "cell_type": "code",
   "execution_count": 14,
   "metadata": {},
   "outputs": [],
   "source": [
    "train_X_id = strat_train_set_drop['acc_id']\n",
    "test_X_id = strat_test_set_drop['acc_id']\n",
    "\n",
    "train_X = strat_train_set_drop.drop(['acc_id','label'],axis=1)\n",
    "train_y = strat_train_set_drop['label']\n",
    "test_X = strat_test_set_drop.drop(['acc_id','label'],axis=1)\n",
    "test_y = strat_test_set_drop['label']\n",
    "real_test = test_activity_mean.drop(['acc_id'], axis=1)\n",
    "real_test_id= test_activity_mean['acc_id']"
   ]
  },
  {
   "cell_type": "code",
   "execution_count": 15,
   "metadata": {},
   "outputs": [],
   "source": [
    "rand_fr_1 = RandomForestClassifier(random_state=42)"
   ]
  },
  {
   "cell_type": "code",
   "execution_count": 16,
   "metadata": {},
   "outputs": [],
   "source": [
    "scores = cross_val_score(rand_fr_1, train_X, train_y, scoring='f1_macro', cv=10)"
   ]
  },
  {
   "cell_type": "code",
   "execution_count": 17,
   "metadata": {},
   "outputs": [
    {
     "data": {
      "text/plain": [
       "array([0.68535555, 0.67808959, 0.68395892, 0.6814135 , 0.68327091,\n",
       "       0.68599579, 0.68932571, 0.6993718 , 0.68589725, 0.68248117])"
      ]
     },
     "execution_count": 17,
     "metadata": {},
     "output_type": "execute_result"
    }
   ],
   "source": [
    "scores"
   ]
  },
  {
   "cell_type": "code",
   "execution_count": 18,
   "metadata": {},
   "outputs": [
    {
     "name": "stdout",
     "output_type": "stream",
     "text": [
      "Accuracy: 0.6855 (+/- 0.011)\n"
     ]
    }
   ],
   "source": [
    "print(\"Accuracy: %0.4f (+/- %0.3f)\" % (scores.mean(), scores.std() * 2))"
   ]
  },
  {
   "cell_type": "code",
   "execution_count": 19,
   "metadata": {},
   "outputs": [
    {
     "data": {
      "text/plain": [
       "RandomForestClassifier(bootstrap=True, class_weight=None, criterion='gini',\n",
       "            max_depth=None, max_features='auto', max_leaf_nodes=None,\n",
       "            min_impurity_decrease=0.0, min_impurity_split=None,\n",
       "            min_samples_leaf=1, min_samples_split=2,\n",
       "            min_weight_fraction_leaf=0.0, n_estimators=10, n_jobs=1,\n",
       "            oob_score=False, random_state=42, verbose=0, warm_start=False)"
      ]
     },
     "execution_count": 19,
     "metadata": {},
     "output_type": "execute_result"
    }
   ],
   "source": [
    "rand_fr_1.fit(train_X,train_y)"
   ]
  },
  {
   "cell_type": "code",
   "execution_count": 20,
   "metadata": {},
   "outputs": [
    {
     "data": {
      "text/plain": [
       "0.6905333333333333"
      ]
     },
     "execution_count": 20,
     "metadata": {},
     "output_type": "execute_result"
    }
   ],
   "source": [
    "rand_fr_1.score(test_X,test_y)"
   ]
  },
  {
   "cell_type": "code",
   "execution_count": 21,
   "metadata": {},
   "outputs": [
    {
     "name": "stdout",
     "output_type": "stream",
     "text": [
      "[[4323 1819 1096  262]\n",
      " [2092 4187  625  596]\n",
      " [ 903  488 5869  240]\n",
      " [ 169  599  395 6337]]\n",
      "             precision    recall  f1-score   support\n",
      "\n",
      "     2month       0.58      0.58      0.58      7500\n",
      "      month       0.59      0.56      0.57      7500\n",
      "   retained       0.74      0.78      0.76      7500\n",
      "       week       0.85      0.84      0.85      7500\n",
      "\n",
      "avg / total       0.69      0.69      0.69     30000\n",
      "\n"
     ]
    }
   ],
   "source": [
    "from sklearn.metrics import classification_report,confusion_matrix\n",
    " \n",
    "predictions = rand_fr_1.predict(test_X)\n",
    " \n",
    "print(confusion_matrix(test_y,predictions))\n",
    "print(classification_report(test_y,predictions))"
   ]
  },
  {
   "cell_type": "code",
   "execution_count": 22,
   "metadata": {},
   "outputs": [
    {
     "data": {
      "text/plain": [
       "30000"
      ]
     },
     "execution_count": 22,
     "metadata": {},
     "output_type": "execute_result"
    }
   ],
   "source": [
    "np.size(predictions)"
   ]
  },
  {
   "cell_type": "markdown",
   "metadata": {},
   "source": [
    "## After Checking validation set"
   ]
  },
  {
   "cell_type": "markdown",
   "metadata": {},
   "source": [
    "### Devide month&2month label for train_set"
   ]
  },
  {
   "cell_type": "code",
   "execution_count": 23,
   "metadata": {},
   "outputs": [
    {
     "data": {
      "text/plain": [
       "array(['month', 'month', 'week', ..., 'month', '2month', '2month'],\n",
       "      dtype=object)"
      ]
     },
     "execution_count": 23,
     "metadata": {},
     "output_type": "execute_result"
    }
   ],
   "source": [
    "rand_fr_1.predict(train_X)"
   ]
  },
  {
   "cell_type": "code",
   "execution_count": 24,
   "metadata": {},
   "outputs": [],
   "source": [
    "train_X_s = rand_fr_1.predict(train_X)"
   ]
  },
  {
   "cell_type": "code",
   "execution_count": 25,
   "metadata": {},
   "outputs": [],
   "source": [
    "train_X_1 = pd.DataFrame({'acc_id': train_X_id, 'pr_label': train_X_s})"
   ]
  },
  {
   "cell_type": "code",
   "execution_count": 26,
   "metadata": {},
   "outputs": [
    {
     "data": {
      "text/plain": [
       "2month      17658\n",
       "month       17579\n",
       "week        17419\n",
       "retained    17344\n",
       "Name: pr_label, dtype: int64"
      ]
     },
     "execution_count": 26,
     "metadata": {},
     "output_type": "execute_result"
    }
   ],
   "source": [
    "train_X_1['pr_label'].value_counts()"
   ]
  },
  {
   "cell_type": "code",
   "execution_count": 27,
   "metadata": {},
   "outputs": [],
   "source": [
    "train_X_1_wr = train_X_1[(train_X_1['pr_label'] == 'week') | (train_X_1['pr_label'] == 'retained')]\n",
    "train_X_1_mm = train_X_1[(train_X_1['pr_label'] == 'month') | (train_X_1['pr_label'] == '2month')]"
   ]
  },
  {
   "cell_type": "code",
   "execution_count": 28,
   "metadata": {},
   "outputs": [
    {
     "name": "stdout",
     "output_type": "stream",
     "text": [
      "<class 'pandas.core.frame.DataFrame'>\n",
      "Int64Index: 35237 entries, 9787 to 77718\n",
      "Data columns (total 2 columns):\n",
      "acc_id      35237 non-null object\n",
      "pr_label    35237 non-null object\n",
      "dtypes: object(2)\n",
      "memory usage: 825.9+ KB\n"
     ]
    }
   ],
   "source": [
    "train_X_1_mm.info()"
   ]
  },
  {
   "cell_type": "code",
   "execution_count": 29,
   "metadata": {},
   "outputs": [],
   "source": [
    "sec_train_set = pd.merge(train_X_1_mm, train_activity_label, on='acc_id')"
   ]
  },
  {
   "cell_type": "code",
   "execution_count": 30,
   "metadata": {},
   "outputs": [
    {
     "name": "stdout",
     "output_type": "stream",
     "text": [
      "<class 'pandas.core.frame.DataFrame'>\n",
      "Int64Index: 35237 entries, 0 to 35236\n",
      "Data columns (total 40 columns):\n",
      "acc_id                      35237 non-null object\n",
      "pr_label                    35237 non-null object\n",
      "wk                          35237 non-null float64\n",
      "cnt_dt                      35237 non-null float64\n",
      "play_time                   35237 non-null float64\n",
      "npc_exp                     35237 non-null float64\n",
      "npc_hongmun                 35237 non-null float64\n",
      "quest_exp                   35237 non-null float64\n",
      "quest_hongmun               35237 non-null float64\n",
      "item_hongmun                35237 non-null float64\n",
      "game_combat_time            35237 non-null float64\n",
      "get_money                   35237 non-null float64\n",
      "duel_cnt                    35237 non-null float64\n",
      "duel_win                    35237 non-null float64\n",
      "partybattle_cnt             35237 non-null float64\n",
      "partybattle_win             35237 non-null float64\n",
      "cnt_enter_inzone_solo       35237 non-null float64\n",
      "cnt_enter_inzone_light      35237 non-null float64\n",
      "cnt_enter_inzone_skilled    35237 non-null float64\n",
      "cnt_enter_inzone_normal     35237 non-null float64\n",
      "cnt_enter_raid              35237 non-null float64\n",
      "cnt_enter_raid_light        35237 non-null float64\n",
      "cnt_enter_bam               35237 non-null float64\n",
      "cnt_clear_inzone_solo       35237 non-null float64\n",
      "cnt_clear_inzone_light      35237 non-null float64\n",
      "cnt_clear_inzone_skilled    35237 non-null float64\n",
      "cnt_clear_inzone_normal     35237 non-null float64\n",
      "cnt_clear_raid              35237 non-null float64\n",
      "cnt_clear_raid_light        35237 non-null float64\n",
      "cnt_clear_bam               35237 non-null float64\n",
      "normal_chat                 35237 non-null float64\n",
      "whisper_chat                35237 non-null float64\n",
      "district_chat               35237 non-null float64\n",
      "party_chat                  35237 non-null float64\n",
      "guild_chat                  35237 non-null float64\n",
      "faction_chat                35237 non-null float64\n",
      "cnt_use_buffitem            35237 non-null float64\n",
      "gathering_cnt               35237 non-null float64\n",
      "making_cnt                  35237 non-null float64\n",
      "label                       35237 non-null object\n",
      "dtypes: float64(37), object(3)\n",
      "memory usage: 11.0+ MB\n"
     ]
    }
   ],
   "source": [
    "sec_train_set.info()"
   ]
  },
  {
   "cell_type": "code",
   "execution_count": 31,
   "metadata": {},
   "outputs": [
    {
     "data": {
      "text/plain": [
       "month       17268\n",
       "2month      17267\n",
       "retained      493\n",
       "week          209\n",
       "Name: label, dtype: int64"
      ]
     },
     "execution_count": 31,
     "metadata": {},
     "output_type": "execute_result"
    }
   ],
   "source": [
    "sec_train_set['label'].value_counts()"
   ]
  },
  {
   "cell_type": "code",
   "execution_count": 32,
   "metadata": {},
   "outputs": [
    {
     "data": {
      "text/html": [
       "<div>\n",
       "<style scoped>\n",
       "    .dataframe tbody tr th:only-of-type {\n",
       "        vertical-align: middle;\n",
       "    }\n",
       "\n",
       "    .dataframe tbody tr th {\n",
       "        vertical-align: top;\n",
       "    }\n",
       "\n",
       "    .dataframe thead th {\n",
       "        text-align: right;\n",
       "    }\n",
       "</style>\n",
       "<table border=\"1\" class=\"dataframe\">\n",
       "  <thead>\n",
       "    <tr style=\"text-align: right;\">\n",
       "      <th></th>\n",
       "      <th>acc_id</th>\n",
       "      <th>pr_label</th>\n",
       "      <th>wk</th>\n",
       "      <th>cnt_dt</th>\n",
       "      <th>play_time</th>\n",
       "      <th>npc_exp</th>\n",
       "      <th>npc_hongmun</th>\n",
       "      <th>quest_exp</th>\n",
       "      <th>quest_hongmun</th>\n",
       "      <th>item_hongmun</th>\n",
       "      <th>...</th>\n",
       "      <th>normal_chat</th>\n",
       "      <th>whisper_chat</th>\n",
       "      <th>district_chat</th>\n",
       "      <th>party_chat</th>\n",
       "      <th>guild_chat</th>\n",
       "      <th>faction_chat</th>\n",
       "      <th>cnt_use_buffitem</th>\n",
       "      <th>gathering_cnt</th>\n",
       "      <th>making_cnt</th>\n",
       "      <th>label</th>\n",
       "    </tr>\n",
       "  </thead>\n",
       "  <tbody>\n",
       "    <tr>\n",
       "      <th>0</th>\n",
       "      <td>18af352a486615c71e794eabd7de7dcbcfaaa8025d8c72...</td>\n",
       "      <td>month</td>\n",
       "      <td>5.000000</td>\n",
       "      <td>4.833333</td>\n",
       "      <td>-0.528608</td>\n",
       "      <td>-0.157050</td>\n",
       "      <td>-0.286200</td>\n",
       "      <td>-0.027648</td>\n",
       "      <td>-0.153857</td>\n",
       "      <td>-0.302199</td>\n",
       "      <td>...</td>\n",
       "      <td>-0.032859</td>\n",
       "      <td>-0.161998</td>\n",
       "      <td>-0.016574</td>\n",
       "      <td>-0.268693</td>\n",
       "      <td>-0.343293</td>\n",
       "      <td>-0.024028</td>\n",
       "      <td>-0.389936</td>\n",
       "      <td>-0.027758</td>\n",
       "      <td>-0.365536</td>\n",
       "      <td>month</td>\n",
       "    </tr>\n",
       "    <tr>\n",
       "      <th>1</th>\n",
       "      <td>89f84ffac2303e3ce14df60c77c834d04de191ab467738...</td>\n",
       "      <td>month</td>\n",
       "      <td>8.000000</td>\n",
       "      <td>3.000000</td>\n",
       "      <td>-0.659798</td>\n",
       "      <td>-0.231874</td>\n",
       "      <td>-0.290803</td>\n",
       "      <td>-0.250423</td>\n",
       "      <td>-0.487666</td>\n",
       "      <td>-0.306354</td>\n",
       "      <td>...</td>\n",
       "      <td>-0.034038</td>\n",
       "      <td>-0.231827</td>\n",
       "      <td>-0.016574</td>\n",
       "      <td>-0.275174</td>\n",
       "      <td>-0.343293</td>\n",
       "      <td>-0.024028</td>\n",
       "      <td>-0.503692</td>\n",
       "      <td>-0.027758</td>\n",
       "      <td>-0.365536</td>\n",
       "      <td>month</td>\n",
       "    </tr>\n",
       "    <tr>\n",
       "      <th>2</th>\n",
       "      <td>98cf8ba124fd558aa93872b166090d85d6546425985ea8...</td>\n",
       "      <td>month</td>\n",
       "      <td>4.500000</td>\n",
       "      <td>6.750000</td>\n",
       "      <td>-0.264199</td>\n",
       "      <td>-0.231874</td>\n",
       "      <td>-0.157795</td>\n",
       "      <td>-0.250423</td>\n",
       "      <td>-0.418289</td>\n",
       "      <td>-0.256754</td>\n",
       "      <td>...</td>\n",
       "      <td>-0.034038</td>\n",
       "      <td>-0.150189</td>\n",
       "      <td>-0.016574</td>\n",
       "      <td>-0.275174</td>\n",
       "      <td>-0.343293</td>\n",
       "      <td>-0.024028</td>\n",
       "      <td>-0.029708</td>\n",
       "      <td>-0.027758</td>\n",
       "      <td>-0.365536</td>\n",
       "      <td>month</td>\n",
       "    </tr>\n",
       "    <tr>\n",
       "      <th>3</th>\n",
       "      <td>58ebaa770abbf2efdad1f75d1afe5d6ebcd088358883c5...</td>\n",
       "      <td>month</td>\n",
       "      <td>8.000000</td>\n",
       "      <td>4.000000</td>\n",
       "      <td>-0.659660</td>\n",
       "      <td>-0.231874</td>\n",
       "      <td>-0.290803</td>\n",
       "      <td>-0.250423</td>\n",
       "      <td>-0.487666</td>\n",
       "      <td>-0.306354</td>\n",
       "      <td>...</td>\n",
       "      <td>-0.034038</td>\n",
       "      <td>-0.231827</td>\n",
       "      <td>-0.016574</td>\n",
       "      <td>-0.275174</td>\n",
       "      <td>-0.343293</td>\n",
       "      <td>-0.024028</td>\n",
       "      <td>-0.503692</td>\n",
       "      <td>-0.027758</td>\n",
       "      <td>-0.365536</td>\n",
       "      <td>2month</td>\n",
       "    </tr>\n",
       "    <tr>\n",
       "      <th>4</th>\n",
       "      <td>b67369a328dc712bb389aff71ab3ed07d8b085c8255c47...</td>\n",
       "      <td>month</td>\n",
       "      <td>8.000000</td>\n",
       "      <td>4.000000</td>\n",
       "      <td>-0.648216</td>\n",
       "      <td>-0.231021</td>\n",
       "      <td>-0.290803</td>\n",
       "      <td>-0.245978</td>\n",
       "      <td>-0.487666</td>\n",
       "      <td>-0.306354</td>\n",
       "      <td>...</td>\n",
       "      <td>-0.034038</td>\n",
       "      <td>-0.231827</td>\n",
       "      <td>-0.016574</td>\n",
       "      <td>-0.275174</td>\n",
       "      <td>-0.343293</td>\n",
       "      <td>-0.024028</td>\n",
       "      <td>-0.498275</td>\n",
       "      <td>-0.027758</td>\n",
       "      <td>-0.365536</td>\n",
       "      <td>month</td>\n",
       "    </tr>\n",
       "    <tr>\n",
       "      <th>5</th>\n",
       "      <td>15b34c0416fbbbb2f29d4ecbbd14574b119630d668cb3f...</td>\n",
       "      <td>2month</td>\n",
       "      <td>7.000000</td>\n",
       "      <td>3.666667</td>\n",
       "      <td>-0.654104</td>\n",
       "      <td>-0.231590</td>\n",
       "      <td>-0.290803</td>\n",
       "      <td>-0.248942</td>\n",
       "      <td>-0.487666</td>\n",
       "      <td>-0.306354</td>\n",
       "      <td>...</td>\n",
       "      <td>-0.034038</td>\n",
       "      <td>-0.231827</td>\n",
       "      <td>-0.016574</td>\n",
       "      <td>-0.275174</td>\n",
       "      <td>-0.343293</td>\n",
       "      <td>-0.024028</td>\n",
       "      <td>-0.501886</td>\n",
       "      <td>-0.027758</td>\n",
       "      <td>-0.365536</td>\n",
       "      <td>2month</td>\n",
       "    </tr>\n",
       "    <tr>\n",
       "      <th>6</th>\n",
       "      <td>6c0671055db704e668961b095fff4648e8fb9f240df755...</td>\n",
       "      <td>month</td>\n",
       "      <td>8.000000</td>\n",
       "      <td>2.000000</td>\n",
       "      <td>-0.661381</td>\n",
       "      <td>-0.231874</td>\n",
       "      <td>-0.290803</td>\n",
       "      <td>-0.250423</td>\n",
       "      <td>-0.487666</td>\n",
       "      <td>-0.306354</td>\n",
       "      <td>...</td>\n",
       "      <td>-0.034038</td>\n",
       "      <td>-0.231827</td>\n",
       "      <td>-0.016574</td>\n",
       "      <td>-0.275174</td>\n",
       "      <td>-0.343293</td>\n",
       "      <td>-0.024028</td>\n",
       "      <td>-0.503692</td>\n",
       "      <td>-0.027758</td>\n",
       "      <td>-0.365536</td>\n",
       "      <td>month</td>\n",
       "    </tr>\n",
       "    <tr>\n",
       "      <th>7</th>\n",
       "      <td>7e5b8124af03d74fe89e1bcf8d820b6f703cee8d8221d0...</td>\n",
       "      <td>month</td>\n",
       "      <td>4.142857</td>\n",
       "      <td>5.285714</td>\n",
       "      <td>-0.424249</td>\n",
       "      <td>-0.231874</td>\n",
       "      <td>-0.230185</td>\n",
       "      <td>-0.250423</td>\n",
       "      <td>-0.463104</td>\n",
       "      <td>-0.276675</td>\n",
       "      <td>...</td>\n",
       "      <td>-0.034038</td>\n",
       "      <td>-0.163172</td>\n",
       "      <td>-0.016574</td>\n",
       "      <td>-0.269001</td>\n",
       "      <td>-0.343293</td>\n",
       "      <td>-0.024028</td>\n",
       "      <td>-0.210402</td>\n",
       "      <td>-0.027758</td>\n",
       "      <td>-0.365536</td>\n",
       "      <td>month</td>\n",
       "    </tr>\n",
       "    <tr>\n",
       "      <th>8</th>\n",
       "      <td>40e0dc39cd30cbdec6c7cd7e1cf892470350c633e55d98...</td>\n",
       "      <td>2month</td>\n",
       "      <td>7.500000</td>\n",
       "      <td>4.000000</td>\n",
       "      <td>2.013967</td>\n",
       "      <td>5.670308</td>\n",
       "      <td>-0.194671</td>\n",
       "      <td>5.276536</td>\n",
       "      <td>3.816281</td>\n",
       "      <td>-0.306354</td>\n",
       "      <td>...</td>\n",
       "      <td>0.167551</td>\n",
       "      <td>-0.231827</td>\n",
       "      <td>-0.016574</td>\n",
       "      <td>-0.117471</td>\n",
       "      <td>-0.343293</td>\n",
       "      <td>-0.024028</td>\n",
       "      <td>1.543918</td>\n",
       "      <td>-0.027758</td>\n",
       "      <td>-0.365536</td>\n",
       "      <td>2month</td>\n",
       "    </tr>\n",
       "    <tr>\n",
       "      <th>9</th>\n",
       "      <td>0b3c46f8c93b501db17cd80758b2bb7579ae45f7e942a5...</td>\n",
       "      <td>month</td>\n",
       "      <td>7.000000</td>\n",
       "      <td>1.000000</td>\n",
       "      <td>-0.574565</td>\n",
       "      <td>-0.231874</td>\n",
       "      <td>-0.263985</td>\n",
       "      <td>-0.250423</td>\n",
       "      <td>-0.468324</td>\n",
       "      <td>-0.281424</td>\n",
       "      <td>...</td>\n",
       "      <td>-0.034038</td>\n",
       "      <td>-0.207181</td>\n",
       "      <td>-0.016574</td>\n",
       "      <td>-0.242769</td>\n",
       "      <td>-0.343293</td>\n",
       "      <td>-0.024028</td>\n",
       "      <td>-0.425146</td>\n",
       "      <td>-0.027758</td>\n",
       "      <td>-0.365536</td>\n",
       "      <td>month</td>\n",
       "    </tr>\n",
       "    <tr>\n",
       "      <th>10</th>\n",
       "      <td>5b5f1021954b7b92994e887ef1aef547ddb447a7be9658...</td>\n",
       "      <td>month</td>\n",
       "      <td>4.500000</td>\n",
       "      <td>6.375000</td>\n",
       "      <td>-0.359622</td>\n",
       "      <td>-0.231874</td>\n",
       "      <td>-0.133133</td>\n",
       "      <td>-0.250423</td>\n",
       "      <td>-0.435403</td>\n",
       "      <td>-0.249223</td>\n",
       "      <td>...</td>\n",
       "      <td>-0.034038</td>\n",
       "      <td>-0.153270</td>\n",
       "      <td>-0.016574</td>\n",
       "      <td>-0.265992</td>\n",
       "      <td>-0.343293</td>\n",
       "      <td>-0.024028</td>\n",
       "      <td>-0.064241</td>\n",
       "      <td>-0.027758</td>\n",
       "      <td>-0.365536</td>\n",
       "      <td>month</td>\n",
       "    </tr>\n",
       "    <tr>\n",
       "      <th>11</th>\n",
       "      <td>60d0202368141926f7e348aceb0f2449149cbae9ef52ff...</td>\n",
       "      <td>month</td>\n",
       "      <td>6.000000</td>\n",
       "      <td>5.200000</td>\n",
       "      <td>-0.655684</td>\n",
       "      <td>-0.231874</td>\n",
       "      <td>-0.290803</td>\n",
       "      <td>-0.250423</td>\n",
       "      <td>-0.487666</td>\n",
       "      <td>-0.306354</td>\n",
       "      <td>...</td>\n",
       "      <td>-0.034038</td>\n",
       "      <td>-0.231827</td>\n",
       "      <td>-0.016574</td>\n",
       "      <td>-0.275174</td>\n",
       "      <td>-0.343293</td>\n",
       "      <td>-0.024028</td>\n",
       "      <td>-0.503692</td>\n",
       "      <td>-0.027758</td>\n",
       "      <td>-0.365536</td>\n",
       "      <td>month</td>\n",
       "    </tr>\n",
       "    <tr>\n",
       "      <th>12</th>\n",
       "      <td>e10bf354eefe5aae8eb97933a355f76637234ef470c67e...</td>\n",
       "      <td>2month</td>\n",
       "      <td>5.400000</td>\n",
       "      <td>2.600000</td>\n",
       "      <td>-0.658231</td>\n",
       "      <td>-0.231874</td>\n",
       "      <td>-0.290803</td>\n",
       "      <td>-0.250423</td>\n",
       "      <td>-0.487666</td>\n",
       "      <td>-0.306354</td>\n",
       "      <td>...</td>\n",
       "      <td>-0.034038</td>\n",
       "      <td>-0.231827</td>\n",
       "      <td>-0.016574</td>\n",
       "      <td>-0.275174</td>\n",
       "      <td>-0.343293</td>\n",
       "      <td>-0.024028</td>\n",
       "      <td>-0.503692</td>\n",
       "      <td>-0.027758</td>\n",
       "      <td>-0.365536</td>\n",
       "      <td>2month</td>\n",
       "    </tr>\n",
       "    <tr>\n",
       "      <th>13</th>\n",
       "      <td>954f5bd82dfe2e238b492df46e050607fcb99d717b7393...</td>\n",
       "      <td>month</td>\n",
       "      <td>7.000000</td>\n",
       "      <td>3.000000</td>\n",
       "      <td>-0.654289</td>\n",
       "      <td>-0.231590</td>\n",
       "      <td>-0.290803</td>\n",
       "      <td>-0.248942</td>\n",
       "      <td>-0.487666</td>\n",
       "      <td>-0.306354</td>\n",
       "      <td>...</td>\n",
       "      <td>-0.034038</td>\n",
       "      <td>-0.231827</td>\n",
       "      <td>-0.016574</td>\n",
       "      <td>-0.275174</td>\n",
       "      <td>-0.343293</td>\n",
       "      <td>-0.024028</td>\n",
       "      <td>-0.501886</td>\n",
       "      <td>-0.027758</td>\n",
       "      <td>-0.365536</td>\n",
       "      <td>month</td>\n",
       "    </tr>\n",
       "    <tr>\n",
       "      <th>14</th>\n",
       "      <td>7effcdcfbbf30f3063bca0673d3c3b0fcbb5a1d93dc407...</td>\n",
       "      <td>month</td>\n",
       "      <td>8.000000</td>\n",
       "      <td>5.000000</td>\n",
       "      <td>-0.658839</td>\n",
       "      <td>-0.231874</td>\n",
       "      <td>-0.290803</td>\n",
       "      <td>-0.250423</td>\n",
       "      <td>-0.487666</td>\n",
       "      <td>-0.306354</td>\n",
       "      <td>...</td>\n",
       "      <td>-0.034038</td>\n",
       "      <td>-0.231827</td>\n",
       "      <td>-0.016574</td>\n",
       "      <td>-0.275174</td>\n",
       "      <td>-0.343293</td>\n",
       "      <td>-0.024028</td>\n",
       "      <td>-0.503692</td>\n",
       "      <td>-0.027758</td>\n",
       "      <td>-0.365536</td>\n",
       "      <td>month</td>\n",
       "    </tr>\n",
       "  </tbody>\n",
       "</table>\n",
       "<p>15 rows × 40 columns</p>\n",
       "</div>"
      ],
      "text/plain": [
       "                                               acc_id pr_label        wk  \\\n",
       "0   18af352a486615c71e794eabd7de7dcbcfaaa8025d8c72...    month  5.000000   \n",
       "1   89f84ffac2303e3ce14df60c77c834d04de191ab467738...    month  8.000000   \n",
       "2   98cf8ba124fd558aa93872b166090d85d6546425985ea8...    month  4.500000   \n",
       "3   58ebaa770abbf2efdad1f75d1afe5d6ebcd088358883c5...    month  8.000000   \n",
       "4   b67369a328dc712bb389aff71ab3ed07d8b085c8255c47...    month  8.000000   \n",
       "5   15b34c0416fbbbb2f29d4ecbbd14574b119630d668cb3f...   2month  7.000000   \n",
       "6   6c0671055db704e668961b095fff4648e8fb9f240df755...    month  8.000000   \n",
       "7   7e5b8124af03d74fe89e1bcf8d820b6f703cee8d8221d0...    month  4.142857   \n",
       "8   40e0dc39cd30cbdec6c7cd7e1cf892470350c633e55d98...   2month  7.500000   \n",
       "9   0b3c46f8c93b501db17cd80758b2bb7579ae45f7e942a5...    month  7.000000   \n",
       "10  5b5f1021954b7b92994e887ef1aef547ddb447a7be9658...    month  4.500000   \n",
       "11  60d0202368141926f7e348aceb0f2449149cbae9ef52ff...    month  6.000000   \n",
       "12  e10bf354eefe5aae8eb97933a355f76637234ef470c67e...   2month  5.400000   \n",
       "13  954f5bd82dfe2e238b492df46e050607fcb99d717b7393...    month  7.000000   \n",
       "14  7effcdcfbbf30f3063bca0673d3c3b0fcbb5a1d93dc407...    month  8.000000   \n",
       "\n",
       "      cnt_dt  play_time   npc_exp  npc_hongmun  quest_exp  quest_hongmun  \\\n",
       "0   4.833333  -0.528608 -0.157050    -0.286200  -0.027648      -0.153857   \n",
       "1   3.000000  -0.659798 -0.231874    -0.290803  -0.250423      -0.487666   \n",
       "2   6.750000  -0.264199 -0.231874    -0.157795  -0.250423      -0.418289   \n",
       "3   4.000000  -0.659660 -0.231874    -0.290803  -0.250423      -0.487666   \n",
       "4   4.000000  -0.648216 -0.231021    -0.290803  -0.245978      -0.487666   \n",
       "5   3.666667  -0.654104 -0.231590    -0.290803  -0.248942      -0.487666   \n",
       "6   2.000000  -0.661381 -0.231874    -0.290803  -0.250423      -0.487666   \n",
       "7   5.285714  -0.424249 -0.231874    -0.230185  -0.250423      -0.463104   \n",
       "8   4.000000   2.013967  5.670308    -0.194671   5.276536       3.816281   \n",
       "9   1.000000  -0.574565 -0.231874    -0.263985  -0.250423      -0.468324   \n",
       "10  6.375000  -0.359622 -0.231874    -0.133133  -0.250423      -0.435403   \n",
       "11  5.200000  -0.655684 -0.231874    -0.290803  -0.250423      -0.487666   \n",
       "12  2.600000  -0.658231 -0.231874    -0.290803  -0.250423      -0.487666   \n",
       "13  3.000000  -0.654289 -0.231590    -0.290803  -0.248942      -0.487666   \n",
       "14  5.000000  -0.658839 -0.231874    -0.290803  -0.250423      -0.487666   \n",
       "\n",
       "    item_hongmun   ...    normal_chat  whisper_chat  district_chat  \\\n",
       "0      -0.302199   ...      -0.032859     -0.161998      -0.016574   \n",
       "1      -0.306354   ...      -0.034038     -0.231827      -0.016574   \n",
       "2      -0.256754   ...      -0.034038     -0.150189      -0.016574   \n",
       "3      -0.306354   ...      -0.034038     -0.231827      -0.016574   \n",
       "4      -0.306354   ...      -0.034038     -0.231827      -0.016574   \n",
       "5      -0.306354   ...      -0.034038     -0.231827      -0.016574   \n",
       "6      -0.306354   ...      -0.034038     -0.231827      -0.016574   \n",
       "7      -0.276675   ...      -0.034038     -0.163172      -0.016574   \n",
       "8      -0.306354   ...       0.167551     -0.231827      -0.016574   \n",
       "9      -0.281424   ...      -0.034038     -0.207181      -0.016574   \n",
       "10     -0.249223   ...      -0.034038     -0.153270      -0.016574   \n",
       "11     -0.306354   ...      -0.034038     -0.231827      -0.016574   \n",
       "12     -0.306354   ...      -0.034038     -0.231827      -0.016574   \n",
       "13     -0.306354   ...      -0.034038     -0.231827      -0.016574   \n",
       "14     -0.306354   ...      -0.034038     -0.231827      -0.016574   \n",
       "\n",
       "    party_chat  guild_chat  faction_chat  cnt_use_buffitem  gathering_cnt  \\\n",
       "0    -0.268693   -0.343293     -0.024028         -0.389936      -0.027758   \n",
       "1    -0.275174   -0.343293     -0.024028         -0.503692      -0.027758   \n",
       "2    -0.275174   -0.343293     -0.024028         -0.029708      -0.027758   \n",
       "3    -0.275174   -0.343293     -0.024028         -0.503692      -0.027758   \n",
       "4    -0.275174   -0.343293     -0.024028         -0.498275      -0.027758   \n",
       "5    -0.275174   -0.343293     -0.024028         -0.501886      -0.027758   \n",
       "6    -0.275174   -0.343293     -0.024028         -0.503692      -0.027758   \n",
       "7    -0.269001   -0.343293     -0.024028         -0.210402      -0.027758   \n",
       "8    -0.117471   -0.343293     -0.024028          1.543918      -0.027758   \n",
       "9    -0.242769   -0.343293     -0.024028         -0.425146      -0.027758   \n",
       "10   -0.265992   -0.343293     -0.024028         -0.064241      -0.027758   \n",
       "11   -0.275174   -0.343293     -0.024028         -0.503692      -0.027758   \n",
       "12   -0.275174   -0.343293     -0.024028         -0.503692      -0.027758   \n",
       "13   -0.275174   -0.343293     -0.024028         -0.501886      -0.027758   \n",
       "14   -0.275174   -0.343293     -0.024028         -0.503692      -0.027758   \n",
       "\n",
       "    making_cnt   label  \n",
       "0    -0.365536   month  \n",
       "1    -0.365536   month  \n",
       "2    -0.365536   month  \n",
       "3    -0.365536  2month  \n",
       "4    -0.365536   month  \n",
       "5    -0.365536  2month  \n",
       "6    -0.365536   month  \n",
       "7    -0.365536   month  \n",
       "8    -0.365536  2month  \n",
       "9    -0.365536   month  \n",
       "10   -0.365536   month  \n",
       "11   -0.365536   month  \n",
       "12   -0.365536  2month  \n",
       "13   -0.365536   month  \n",
       "14   -0.365536   month  \n",
       "\n",
       "[15 rows x 40 columns]"
      ]
     },
     "execution_count": 32,
     "metadata": {},
     "output_type": "execute_result"
    }
   ],
   "source": [
    "sec_train_set.head(15)"
   ]
  },
  {
   "cell_type": "markdown",
   "metadata": {},
   "source": [
    "### Devide month&2month label for test_set (validation)"
   ]
  },
  {
   "cell_type": "code",
   "execution_count": 33,
   "metadata": {},
   "outputs": [],
   "source": [
    "test_X_s = predictions"
   ]
  },
  {
   "cell_type": "code",
   "execution_count": 34,
   "metadata": {},
   "outputs": [],
   "source": [
    "test_X_1 = pd.DataFrame({'acc_id': test_X_id, 'pr_label': test_X_s})"
   ]
  },
  {
   "cell_type": "code",
   "execution_count": 35,
   "metadata": {},
   "outputs": [
    {
     "data": {
      "text/plain": [
       "retained    7985\n",
       "2month      7487\n",
       "week        7435\n",
       "month       7093\n",
       "Name: pr_label, dtype: int64"
      ]
     },
     "execution_count": 35,
     "metadata": {},
     "output_type": "execute_result"
    }
   ],
   "source": [
    "test_X_1['pr_label'].value_counts()"
   ]
  },
  {
   "cell_type": "code",
   "execution_count": 36,
   "metadata": {},
   "outputs": [],
   "source": [
    "test_X_1_wr = test_X_1[(test_X_1['pr_label'] == 'week') | (test_X_1['pr_label'] == 'retained')]\n",
    "test_X_1_mm = test_X_1[(test_X_1['pr_label'] == 'month') | (test_X_1['pr_label'] == '2month')]"
   ]
  },
  {
   "cell_type": "code",
   "execution_count": 37,
   "metadata": {},
   "outputs": [
    {
     "name": "stdout",
     "output_type": "stream",
     "text": [
      "<class 'pandas.core.frame.DataFrame'>\n",
      "Int64Index: 14580 entries, 7600 to 13096\n",
      "Data columns (total 2 columns):\n",
      "acc_id      14580 non-null object\n",
      "pr_label    14580 non-null object\n",
      "dtypes: object(2)\n",
      "memory usage: 341.7+ KB\n"
     ]
    }
   ],
   "source": [
    "test_X_1_mm.info()"
   ]
  },
  {
   "cell_type": "code",
   "execution_count": 38,
   "metadata": {},
   "outputs": [],
   "source": [
    "sec_test_set = pd.merge(test_X_1_mm, train_activity_label, on='acc_id')"
   ]
  },
  {
   "cell_type": "code",
   "execution_count": 39,
   "metadata": {},
   "outputs": [
    {
     "name": "stdout",
     "output_type": "stream",
     "text": [
      "<class 'pandas.core.frame.DataFrame'>\n",
      "Int64Index: 14580 entries, 0 to 14579\n",
      "Data columns (total 40 columns):\n",
      "acc_id                      14580 non-null object\n",
      "pr_label                    14580 non-null object\n",
      "wk                          14580 non-null float64\n",
      "cnt_dt                      14580 non-null float64\n",
      "play_time                   14580 non-null float64\n",
      "npc_exp                     14580 non-null float64\n",
      "npc_hongmun                 14580 non-null float64\n",
      "quest_exp                   14580 non-null float64\n",
      "quest_hongmun               14580 non-null float64\n",
      "item_hongmun                14580 non-null float64\n",
      "game_combat_time            14580 non-null float64\n",
      "get_money                   14580 non-null float64\n",
      "duel_cnt                    14580 non-null float64\n",
      "duel_win                    14580 non-null float64\n",
      "partybattle_cnt             14580 non-null float64\n",
      "partybattle_win             14580 non-null float64\n",
      "cnt_enter_inzone_solo       14580 non-null float64\n",
      "cnt_enter_inzone_light      14580 non-null float64\n",
      "cnt_enter_inzone_skilled    14580 non-null float64\n",
      "cnt_enter_inzone_normal     14580 non-null float64\n",
      "cnt_enter_raid              14580 non-null float64\n",
      "cnt_enter_raid_light        14580 non-null float64\n",
      "cnt_enter_bam               14580 non-null float64\n",
      "cnt_clear_inzone_solo       14580 non-null float64\n",
      "cnt_clear_inzone_light      14580 non-null float64\n",
      "cnt_clear_inzone_skilled    14580 non-null float64\n",
      "cnt_clear_inzone_normal     14580 non-null float64\n",
      "cnt_clear_raid              14580 non-null float64\n",
      "cnt_clear_raid_light        14580 non-null float64\n",
      "cnt_clear_bam               14580 non-null float64\n",
      "normal_chat                 14580 non-null float64\n",
      "whisper_chat                14580 non-null float64\n",
      "district_chat               14580 non-null float64\n",
      "party_chat                  14580 non-null float64\n",
      "guild_chat                  14580 non-null float64\n",
      "faction_chat                14580 non-null float64\n",
      "cnt_use_buffitem            14580 non-null float64\n",
      "gathering_cnt               14580 non-null float64\n",
      "making_cnt                  14580 non-null float64\n",
      "label                       14580 non-null object\n",
      "dtypes: float64(37), object(3)\n",
      "memory usage: 4.6+ MB\n"
     ]
    }
   ],
   "source": [
    "sec_test_set.info()"
   ]
  },
  {
   "cell_type": "code",
   "execution_count": null,
   "metadata": {},
   "outputs": [],
   "source": []
  },
  {
   "cell_type": "code",
   "execution_count": null,
   "metadata": {},
   "outputs": [],
   "source": []
  },
  {
   "cell_type": "markdown",
   "metadata": {},
   "source": [
    "# Second Model"
   ]
  },
  {
   "cell_type": "code",
   "execution_count": 40,
   "metadata": {},
   "outputs": [],
   "source": [
    "train_X_2 = sec_train_set.drop(['acc_id','label','pr_label'],axis=1)\n",
    "train_y_2 = sec_train_set['label']\n",
    "test_X_2 = sec_test_set.drop(['acc_id','label','pr_label'],axis=1)\n",
    "test_y_2 = sec_test_set['label']"
   ]
  },
  {
   "cell_type": "code",
   "execution_count": 41,
   "metadata": {},
   "outputs": [],
   "source": [
    "rand_fr_2 = RandomForestClassifier(random_state=42)"
   ]
  },
  {
   "cell_type": "code",
   "execution_count": 42,
   "metadata": {},
   "outputs": [
    {
     "name": "stderr",
     "output_type": "stream",
     "text": [
      "C:\\Anaconda_\\lib\\site-packages\\sklearn\\metrics\\classification.py:1135: UndefinedMetricWarning: F-score is ill-defined and being set to 0.0 in labels with no predicted samples.\n",
      "  'precision', 'predicted', average, warn_for)\n",
      "C:\\Anaconda_\\lib\\site-packages\\sklearn\\metrics\\classification.py:1135: UndefinedMetricWarning: F-score is ill-defined and being set to 0.0 in labels with no predicted samples.\n",
      "  'precision', 'predicted', average, warn_for)\n"
     ]
    }
   ],
   "source": [
    "scores = cross_val_score(rand_fr_2, train_X_2, train_y_2, scoring='f1_macro', cv=10)"
   ]
  },
  {
   "cell_type": "code",
   "execution_count": 43,
   "metadata": {},
   "outputs": [
    {
     "data": {
      "text/plain": [
       "array([0.33007666, 0.33749153, 0.33294596, 0.33421504, 0.33495974,\n",
       "       0.3345535 , 0.32825112, 0.343438  , 0.33512067, 0.32970816])"
      ]
     },
     "execution_count": 43,
     "metadata": {},
     "output_type": "execute_result"
    }
   ],
   "source": [
    "scores"
   ]
  },
  {
   "cell_type": "code",
   "execution_count": 44,
   "metadata": {},
   "outputs": [
    {
     "name": "stdout",
     "output_type": "stream",
     "text": [
      "Accuracy: 0.3341 (+/- 0.008)\n"
     ]
    }
   ],
   "source": [
    "print(\"Accuracy: %0.4f (+/- %0.3f)\" % (scores.mean(), scores.std() * 2))"
   ]
  },
  {
   "cell_type": "code",
   "execution_count": 45,
   "metadata": {},
   "outputs": [
    {
     "data": {
      "text/plain": [
       "RandomForestClassifier(bootstrap=True, class_weight=None, criterion='gini',\n",
       "            max_depth=None, max_features='auto', max_leaf_nodes=None,\n",
       "            min_impurity_decrease=0.0, min_impurity_split=None,\n",
       "            min_samples_leaf=1, min_samples_split=2,\n",
       "            min_weight_fraction_leaf=0.0, n_estimators=10, n_jobs=1,\n",
       "            oob_score=False, random_state=42, verbose=0, warm_start=False)"
      ]
     },
     "execution_count": 45,
     "metadata": {},
     "output_type": "execute_result"
    }
   ],
   "source": [
    "rand_fr_2.fit(train_X_2,train_y_2)"
   ]
  },
  {
   "cell_type": "code",
   "execution_count": 46,
   "metadata": {},
   "outputs": [
    {
     "data": {
      "text/plain": [
       "0.5779149519890261"
      ]
     },
     "execution_count": 46,
     "metadata": {},
     "output_type": "execute_result"
    }
   ],
   "source": [
    "rand_fr_2.score(test_X_2,test_y_2)"
   ]
  },
  {
   "cell_type": "code",
   "execution_count": 47,
   "metadata": {},
   "outputs": [
    {
     "name": "stdout",
     "output_type": "stream",
     "text": [
      "[[4428 1679   29    6]\n",
      " [2265 3988   21    5]\n",
      " [ 982  400    9    0]\n",
      " [ 203  564    0    1]]\n",
      "             precision    recall  f1-score   support\n",
      "\n",
      "     2month       0.56      0.72      0.63      6142\n",
      "      month       0.60      0.64      0.62      6279\n",
      "   retained       0.15      0.01      0.01      1391\n",
      "       week       0.08      0.00      0.00       768\n",
      "\n",
      "avg / total       0.51      0.58      0.53     14580\n",
      "\n"
     ]
    }
   ],
   "source": [
    "predictions = rand_fr_2.predict(test_X_2)\n",
    " \n",
    "print(confusion_matrix(test_y_2,predictions))\n",
    "print(classification_report(test_y_2,predictions))"
   ]
  },
  {
   "cell_type": "markdown",
   "metadata": {},
   "source": [
    "### Scaling for SVC"
   ]
  },
  {
   "cell_type": "code",
   "execution_count": 52,
   "metadata": {},
   "outputs": [
    {
     "data": {
      "text/plain": [
       "array([[3.33333333e-01, 6.38888889e-01, 2.50600019e-02, ...,\n",
       "        1.57185629e-02, 5.42101086e-20, 0.00000000e+00],\n",
       "       [1.00000000e+00, 3.33333333e-01, 3.24485811e-04, ...,\n",
       "        0.00000000e+00, 5.42101086e-20, 3.46944695e-18],\n",
       "       [2.22222222e-01, 9.58333333e-01, 7.49137968e-02, ...,\n",
       "        6.54940120e-02, 5.42101086e-20, 0.00000000e+00],\n",
       "       ...,\n",
       "       [1.00000000e+00, 3.33333333e-01, 2.36650859e-03, ...,\n",
       "        7.48502994e-04, 5.42101086e-20, 3.46944695e-18],\n",
       "       [2.22222222e-01, 7.08333333e-01, 1.17392999e-03, ...,\n",
       "        0.00000000e+00, 5.42101086e-20, 0.00000000e+00],\n",
       "       [1.00000000e+00, 1.66666667e-01, 1.84061779e-03, ...,\n",
       "        0.00000000e+00, 5.42101086e-20, 3.46944695e-18]])"
      ]
     },
     "execution_count": 52,
     "metadata": {},
     "output_type": "execute_result"
    }
   ],
   "source": [
    "from sklearn import preprocessing\n",
    "\n",
    "scaler = preprocessing.MinMaxScaler()\n",
    "\n",
    "train_X_2_scaled = scaler.fit_transform(train_X_2)\n",
    "\n",
    "train_X_2_scaled"
   ]
  },
  {
   "cell_type": "markdown",
   "metadata": {},
   "source": [
    "### Grid Search for SVC"
   ]
  },
  {
   "cell_type": "code",
   "execution_count": 60,
   "metadata": {},
   "outputs": [],
   "source": [
    "\n",
    "from sklearn import svm\n",
    "from sklearn. model_selection import GridSearchCV\n",
    "\n",
    "def svc_param_selection(X, y, nfolds):\n",
    "    Cs = [0.1, 1, 10, 100]\n",
    "    gammas = [0.1, 1, 5, 100]\n",
    "    param_grid = {'C': Cs, 'gamma' : gammas}\n",
    "    grid_search = GridSearchCV(svm.SVC(kernel='rbf'), param_grid, cv=nfolds)\n",
    "    grid_search.fit(X, y)\n",
    "    grid_search.best_params_\n",
    "    return grid_search.best_params_\n",
    "    "
   ]
  },
  {
   "cell_type": "code",
   "execution_count": null,
   "metadata": {},
   "outputs": [],
   "source": [
    "svc_param_selection(train_X_2_scaled, train_y_2, 5)"
   ]
  },
  {
   "cell_type": "code",
   "execution_count": null,
   "metadata": {},
   "outputs": [],
   "source": [
    "scaler = preprocessing.MinMaxScaler()\n",
    "\n",
    "test_X_2_scaled = scaler.fit_transform(test_X_2)\n",
    "\n",
    "test_X_2_scaled"
   ]
  },
  {
   "cell_type": "code",
   "execution_count": 62,
   "metadata": {},
   "outputs": [
    {
     "data": {
      "text/plain": [
       "array([[5.55555556e-01, 9.33333333e-01, 2.62704922e-01, ...,\n",
       "        7.43392070e-02, 0.00000000e+00, 1.22727273e-01],\n",
       "       [4.22222222e-01, 2.66666667e-01, 8.97806769e-04, ...,\n",
       "        1.65198238e-04, 0.00000000e+00, 0.00000000e+00],\n",
       "       [4.22222222e-01, 3.00000000e-01, 9.60027377e-04, ...,\n",
       "        1.65198238e-04, 0.00000000e+00, 0.00000000e+00],\n",
       "       ...,\n",
       "       [2.96296296e-01, 2.22222222e-01, 5.50225374e-04, ...,\n",
       "        0.00000000e+00, 0.00000000e+00, 0.00000000e+00],\n",
       "       [1.00000000e+00, 3.33333333e-01, 3.78813700e-04, ...,\n",
       "        0.00000000e+00, 0.00000000e+00, 0.00000000e+00],\n",
       "       [3.33333333e-01, 5.00000000e-01, 8.98538776e-04, ...,\n",
       "        0.00000000e+00, 0.00000000e+00, 0.00000000e+00]])"
      ]
     },
     "execution_count": 62,
     "metadata": {},
     "output_type": "execute_result"
    }
   ],
   "source": [
    "grid.search.predict()"
   ]
  },
  {
   "cell_type": "code",
   "execution_count": null,
   "metadata": {},
   "outputs": [],
   "source": [
    "grid.search.predict(test_X_2)"
   ]
  },
  {
   "cell_type": "markdown",
   "metadata": {},
   "source": [
    "# Test set"
   ]
  },
  {
   "cell_type": "code",
   "execution_count": null,
   "metadata": {},
   "outputs": [],
   "source": [
    "rand_fr_2 = RandomForestClassifier()"
   ]
  },
  {
   "cell_type": "code",
   "execution_count": null,
   "metadata": {},
   "outputs": [],
   "source": [
    "scores = cross_val_score(rand_fr, train_X, train_y, scoring='f1_macro', cv=10)"
   ]
  },
  {
   "cell_type": "code",
   "execution_count": null,
   "metadata": {},
   "outputs": [],
   "source": [
    "s = rand_fr.predict(real_test)"
   ]
  },
  {
   "cell_type": "code",
   "execution_count": null,
   "metadata": {},
   "outputs": [],
   "source": [
    "s"
   ]
  },
  {
   "cell_type": "code",
   "execution_count": null,
   "metadata": {},
   "outputs": [],
   "source": [
    "real_test_1 = pd.DataFrame({'acc_id': real_test_id, 'label': s})"
   ]
  },
  {
   "cell_type": "code",
   "execution_count": null,
   "metadata": {},
   "outputs": [],
   "source": [
    "real_test_1.info()"
   ]
  },
  {
   "cell_type": "code",
   "execution_count": null,
   "metadata": {},
   "outputs": [],
   "source": [
    "real_test_1['label'].value_counts()"
   ]
  },
  {
   "cell_type": "code",
   "execution_count": null,
   "metadata": {},
   "outputs": [],
   "source": [
    "real_test_1_wr = real_test_1[(real_test_1['label'] == 'week') | (real_test_1['label'] == 'retained')]"
   ]
  },
  {
   "cell_type": "code",
   "execution_count": null,
   "metadata": {},
   "outputs": [],
   "source": [
    "real_test_1_mm = real_test_1[(real_test_1['label'] == 'month') | (real_test_1['label'] == '2month')]"
   ]
  },
  {
   "cell_type": "code",
   "execution_count": null,
   "metadata": {},
   "outputs": [],
   "source": [
    "real_test_1_wr['label'].value_counts()"
   ]
  },
  {
   "cell_type": "code",
   "execution_count": null,
   "metadata": {},
   "outputs": [],
   "source": [
    "real_test_1_mm['label'].value_counts()"
   ]
  },
  {
   "cell_type": "code",
   "execution_count": null,
   "metadata": {},
   "outputs": [],
   "source": [
    "real_test_1_mm.info()"
   ]
  },
  {
   "cell_type": "code",
   "execution_count": null,
   "metadata": {},
   "outputs": [],
   "source": []
  }
 ],
 "metadata": {
  "kernelspec": {
   "display_name": "Python 3",
   "language": "python",
   "name": "python3"
  },
  "language_info": {
   "codemirror_mode": {
    "name": "ipython",
    "version": 3
   },
   "file_extension": ".py",
   "mimetype": "text/x-python",
   "name": "python",
   "nbconvert_exporter": "python",
   "pygments_lexer": "ipython3",
   "version": "3.6.4"
  }
 },
 "nbformat": 4,
 "nbformat_minor": 2
}
