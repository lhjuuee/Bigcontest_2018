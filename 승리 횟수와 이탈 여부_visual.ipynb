{
 "cells": [
  {
   "cell_type": "code",
   "execution_count": 35,
   "metadata": {},
   "outputs": [],
   "source": [
    "import numpy as np\n",
    "import pandas as pd\n",
    "import matplotlib.pyplot as plt\n",
    "import seaborn as sns\n",
    "sns.set(style=\"darkgrid\")\n"
   ]
  },
  {
   "cell_type": "code",
   "execution_count": 2,
   "metadata": {},
   "outputs": [],
   "source": [
    "train_activity = pd.read_csv('C:/Bigcontest/train_activity.csv')\n",
    "train_label = pd.read_csv('C:/Bigcontest/train_label.csv')"
   ]
  },
  {
   "cell_type": "code",
   "execution_count": 3,
   "metadata": {},
   "outputs": [],
   "source": [
    "train_duel = pd.merge(train_activity, train_label, how = 'outer', on = 'acc_id')"
   ]
  },
  {
   "cell_type": "code",
   "execution_count": 4,
   "metadata": {},
   "outputs": [
    {
     "data": {
      "text/html": [
       "<div>\n",
       "<style scoped>\n",
       "    .dataframe tbody tr th:only-of-type {\n",
       "        vertical-align: middle;\n",
       "    }\n",
       "\n",
       "    .dataframe tbody tr th {\n",
       "        vertical-align: top;\n",
       "    }\n",
       "\n",
       "    .dataframe thead th {\n",
       "        text-align: right;\n",
       "    }\n",
       "</style>\n",
       "<table border=\"1\" class=\"dataframe\">\n",
       "  <thead>\n",
       "    <tr style=\"text-align: right;\">\n",
       "      <th></th>\n",
       "      <th>wk</th>\n",
       "      <th>acc_id</th>\n",
       "      <th>cnt_dt</th>\n",
       "      <th>play_time</th>\n",
       "      <th>npc_exp</th>\n",
       "      <th>npc_hongmun</th>\n",
       "      <th>quest_exp</th>\n",
       "      <th>quest_hongmun</th>\n",
       "      <th>item_hongmun</th>\n",
       "      <th>game_combat_time</th>\n",
       "      <th>...</th>\n",
       "      <th>normal_chat</th>\n",
       "      <th>whisper_chat</th>\n",
       "      <th>district_chat</th>\n",
       "      <th>party_chat</th>\n",
       "      <th>guild_chat</th>\n",
       "      <th>faction_chat</th>\n",
       "      <th>cnt_use_buffitem</th>\n",
       "      <th>gathering_cnt</th>\n",
       "      <th>making_cnt</th>\n",
       "      <th>label</th>\n",
       "    </tr>\n",
       "  </thead>\n",
       "  <tbody>\n",
       "    <tr>\n",
       "      <th>0</th>\n",
       "      <td>7</td>\n",
       "      <td>3dc6f2875dc6e6f35b9e2bdb25b391a8003386ff23becd...</td>\n",
       "      <td>4</td>\n",
       "      <td>2.088814</td>\n",
       "      <td>4.405057</td>\n",
       "      <td>-0.245477</td>\n",
       "      <td>4.454059</td>\n",
       "      <td>3.009797</td>\n",
       "      <td>-0.306354</td>\n",
       "      <td>1.184011</td>\n",
       "      <td>...</td>\n",
       "      <td>-0.034038</td>\n",
       "      <td>-0.231827</td>\n",
       "      <td>-0.016574</td>\n",
       "      <td>-0.275174</td>\n",
       "      <td>-0.343293</td>\n",
       "      <td>-0.024028</td>\n",
       "      <td>3.466939</td>\n",
       "      <td>-0.027758</td>\n",
       "      <td>-0.365536</td>\n",
       "      <td>month</td>\n",
       "    </tr>\n",
       "    <tr>\n",
       "      <th>1</th>\n",
       "      <td>8</td>\n",
       "      <td>3dc6f2875dc6e6f35b9e2bdb25b391a8003386ff23becd...</td>\n",
       "      <td>5</td>\n",
       "      <td>2.673460</td>\n",
       "      <td>4.760178</td>\n",
       "      <td>-0.222527</td>\n",
       "      <td>6.107479</td>\n",
       "      <td>4.758528</td>\n",
       "      <td>-0.306354</td>\n",
       "      <td>1.709534</td>\n",
       "      <td>...</td>\n",
       "      <td>-0.034038</td>\n",
       "      <td>-0.231827</td>\n",
       "      <td>-0.016574</td>\n",
       "      <td>-0.275174</td>\n",
       "      <td>-0.343293</td>\n",
       "      <td>-0.024028</td>\n",
       "      <td>5.070359</td>\n",
       "      <td>-0.027758</td>\n",
       "      <td>-0.365536</td>\n",
       "      <td>month</td>\n",
       "    </tr>\n",
       "    <tr>\n",
       "      <th>2</th>\n",
       "      <td>3</td>\n",
       "      <td>b8856358ff62e596fa07e3e40b8e7fd4b7729263c72b44...</td>\n",
       "      <td>2</td>\n",
       "      <td>-0.649522</td>\n",
       "      <td>-0.231021</td>\n",
       "      <td>-0.290803</td>\n",
       "      <td>-0.245978</td>\n",
       "      <td>-0.487666</td>\n",
       "      <td>-0.306354</td>\n",
       "      <td>-0.566706</td>\n",
       "      <td>...</td>\n",
       "      <td>-0.034038</td>\n",
       "      <td>-0.231827</td>\n",
       "      <td>-0.016574</td>\n",
       "      <td>-0.275174</td>\n",
       "      <td>-0.343293</td>\n",
       "      <td>-0.024028</td>\n",
       "      <td>-0.498275</td>\n",
       "      <td>-0.027758</td>\n",
       "      <td>-0.365536</td>\n",
       "      <td>retained</td>\n",
       "    </tr>\n",
       "    <tr>\n",
       "      <th>3</th>\n",
       "      <td>4</td>\n",
       "      <td>b8856358ff62e596fa07e3e40b8e7fd4b7729263c72b44...</td>\n",
       "      <td>2</td>\n",
       "      <td>-0.658235</td>\n",
       "      <td>-0.231874</td>\n",
       "      <td>-0.290803</td>\n",
       "      <td>-0.250423</td>\n",
       "      <td>-0.487666</td>\n",
       "      <td>-0.306354</td>\n",
       "      <td>-0.569842</td>\n",
       "      <td>...</td>\n",
       "      <td>-0.034038</td>\n",
       "      <td>-0.231827</td>\n",
       "      <td>-0.016574</td>\n",
       "      <td>-0.275174</td>\n",
       "      <td>-0.343293</td>\n",
       "      <td>-0.024028</td>\n",
       "      <td>-0.503692</td>\n",
       "      <td>-0.027758</td>\n",
       "      <td>-0.365536</td>\n",
       "      <td>retained</td>\n",
       "    </tr>\n",
       "    <tr>\n",
       "      <th>4</th>\n",
       "      <td>5</td>\n",
       "      <td>b8856358ff62e596fa07e3e40b8e7fd4b7729263c72b44...</td>\n",
       "      <td>4</td>\n",
       "      <td>-0.654734</td>\n",
       "      <td>-0.231874</td>\n",
       "      <td>-0.290803</td>\n",
       "      <td>-0.250423</td>\n",
       "      <td>-0.487666</td>\n",
       "      <td>-0.306354</td>\n",
       "      <td>-0.569842</td>\n",
       "      <td>...</td>\n",
       "      <td>-0.034038</td>\n",
       "      <td>-0.231827</td>\n",
       "      <td>-0.016574</td>\n",
       "      <td>-0.275174</td>\n",
       "      <td>-0.343293</td>\n",
       "      <td>-0.024028</td>\n",
       "      <td>-0.503692</td>\n",
       "      <td>-0.027758</td>\n",
       "      <td>-0.365536</td>\n",
       "      <td>retained</td>\n",
       "    </tr>\n",
       "  </tbody>\n",
       "</table>\n",
       "<p>5 rows × 39 columns</p>\n",
       "</div>"
      ],
      "text/plain": [
       "   wk                                             acc_id  cnt_dt  play_time  \\\n",
       "0   7  3dc6f2875dc6e6f35b9e2bdb25b391a8003386ff23becd...       4   2.088814   \n",
       "1   8  3dc6f2875dc6e6f35b9e2bdb25b391a8003386ff23becd...       5   2.673460   \n",
       "2   3  b8856358ff62e596fa07e3e40b8e7fd4b7729263c72b44...       2  -0.649522   \n",
       "3   4  b8856358ff62e596fa07e3e40b8e7fd4b7729263c72b44...       2  -0.658235   \n",
       "4   5  b8856358ff62e596fa07e3e40b8e7fd4b7729263c72b44...       4  -0.654734   \n",
       "\n",
       "    npc_exp  npc_hongmun  quest_exp  quest_hongmun  item_hongmun  \\\n",
       "0  4.405057    -0.245477   4.454059       3.009797     -0.306354   \n",
       "1  4.760178    -0.222527   6.107479       4.758528     -0.306354   \n",
       "2 -0.231021    -0.290803  -0.245978      -0.487666     -0.306354   \n",
       "3 -0.231874    -0.290803  -0.250423      -0.487666     -0.306354   \n",
       "4 -0.231874    -0.290803  -0.250423      -0.487666     -0.306354   \n",
       "\n",
       "   game_combat_time    ...     normal_chat  whisper_chat  district_chat  \\\n",
       "0          1.184011    ...       -0.034038     -0.231827      -0.016574   \n",
       "1          1.709534    ...       -0.034038     -0.231827      -0.016574   \n",
       "2         -0.566706    ...       -0.034038     -0.231827      -0.016574   \n",
       "3         -0.569842    ...       -0.034038     -0.231827      -0.016574   \n",
       "4         -0.569842    ...       -0.034038     -0.231827      -0.016574   \n",
       "\n",
       "   party_chat  guild_chat  faction_chat  cnt_use_buffitem  gathering_cnt  \\\n",
       "0   -0.275174   -0.343293     -0.024028          3.466939      -0.027758   \n",
       "1   -0.275174   -0.343293     -0.024028          5.070359      -0.027758   \n",
       "2   -0.275174   -0.343293     -0.024028         -0.498275      -0.027758   \n",
       "3   -0.275174   -0.343293     -0.024028         -0.503692      -0.027758   \n",
       "4   -0.275174   -0.343293     -0.024028         -0.503692      -0.027758   \n",
       "\n",
       "   making_cnt     label  \n",
       "0   -0.365536     month  \n",
       "1   -0.365536     month  \n",
       "2   -0.365536  retained  \n",
       "3   -0.365536  retained  \n",
       "4   -0.365536  retained  \n",
       "\n",
       "[5 rows x 39 columns]"
      ]
     },
     "execution_count": 4,
     "metadata": {},
     "output_type": "execute_result"
    }
   ],
   "source": [
    "train_duel.head()"
   ]
  },
  {
   "cell_type": "code",
   "execution_count": 5,
   "metadata": {},
   "outputs": [],
   "source": [
    "train_duel_win = train_duel[['acc_id','duel_win','label']]"
   ]
  },
  {
   "cell_type": "code",
   "execution_count": 6,
   "metadata": {},
   "outputs": [
    {
     "data": {
      "text/html": [
       "<div>\n",
       "<style scoped>\n",
       "    .dataframe tbody tr th:only-of-type {\n",
       "        vertical-align: middle;\n",
       "    }\n",
       "\n",
       "    .dataframe tbody tr th {\n",
       "        vertical-align: top;\n",
       "    }\n",
       "\n",
       "    .dataframe thead th {\n",
       "        text-align: right;\n",
       "    }\n",
       "</style>\n",
       "<table border=\"1\" class=\"dataframe\">\n",
       "  <thead>\n",
       "    <tr style=\"text-align: right;\">\n",
       "      <th></th>\n",
       "      <th>acc_id</th>\n",
       "      <th>duel_win</th>\n",
       "      <th>label</th>\n",
       "    </tr>\n",
       "  </thead>\n",
       "  <tbody>\n",
       "    <tr>\n",
       "      <th>0</th>\n",
       "      <td>3dc6f2875dc6e6f35b9e2bdb25b391a8003386ff23becd...</td>\n",
       "      <td>-0.041326</td>\n",
       "      <td>month</td>\n",
       "    </tr>\n",
       "    <tr>\n",
       "      <th>1</th>\n",
       "      <td>3dc6f2875dc6e6f35b9e2bdb25b391a8003386ff23becd...</td>\n",
       "      <td>-0.041326</td>\n",
       "      <td>month</td>\n",
       "    </tr>\n",
       "    <tr>\n",
       "      <th>2</th>\n",
       "      <td>b8856358ff62e596fa07e3e40b8e7fd4b7729263c72b44...</td>\n",
       "      <td>-0.041326</td>\n",
       "      <td>retained</td>\n",
       "    </tr>\n",
       "    <tr>\n",
       "      <th>3</th>\n",
       "      <td>b8856358ff62e596fa07e3e40b8e7fd4b7729263c72b44...</td>\n",
       "      <td>-0.041326</td>\n",
       "      <td>retained</td>\n",
       "    </tr>\n",
       "    <tr>\n",
       "      <th>4</th>\n",
       "      <td>b8856358ff62e596fa07e3e40b8e7fd4b7729263c72b44...</td>\n",
       "      <td>-0.041326</td>\n",
       "      <td>retained</td>\n",
       "    </tr>\n",
       "  </tbody>\n",
       "</table>\n",
       "</div>"
      ],
      "text/plain": [
       "                                              acc_id  duel_win     label\n",
       "0  3dc6f2875dc6e6f35b9e2bdb25b391a8003386ff23becd... -0.041326     month\n",
       "1  3dc6f2875dc6e6f35b9e2bdb25b391a8003386ff23becd... -0.041326     month\n",
       "2  b8856358ff62e596fa07e3e40b8e7fd4b7729263c72b44... -0.041326  retained\n",
       "3  b8856358ff62e596fa07e3e40b8e7fd4b7729263c72b44... -0.041326  retained\n",
       "4  b8856358ff62e596fa07e3e40b8e7fd4b7729263c72b44... -0.041326  retained"
      ]
     },
     "execution_count": 6,
     "metadata": {},
     "output_type": "execute_result"
    }
   ],
   "source": [
    "train_duel_win.head()"
   ]
  },
  {
   "cell_type": "code",
   "execution_count": 7,
   "metadata": {},
   "outputs": [
    {
     "name": "stdout",
     "output_type": "stream",
     "text": [
      "<class 'pandas.core.frame.DataFrame'>\n",
      "Int64Index: 440323 entries, 0 to 440322\n",
      "Data columns (total 3 columns):\n",
      "acc_id      440323 non-null object\n",
      "duel_win    440323 non-null float64\n",
      "label       440323 non-null object\n",
      "dtypes: float64(1), object(2)\n",
      "memory usage: 13.4+ MB\n"
     ]
    }
   ],
   "source": [
    "train_duel_win.info()"
   ]
  },
  {
   "cell_type": "code",
   "execution_count": 8,
   "metadata": {},
   "outputs": [],
   "source": [
    "train_duel_win = train_duel_win.groupby(['acc_id'], as_index = False).mean()"
   ]
  },
  {
   "cell_type": "code",
   "execution_count": 9,
   "metadata": {},
   "outputs": [
    {
     "name": "stdout",
     "output_type": "stream",
     "text": [
      "<class 'pandas.core.frame.DataFrame'>\n",
      "Int64Index: 100000 entries, 0 to 99999\n",
      "Data columns (total 2 columns):\n",
      "acc_id      100000 non-null object\n",
      "duel_win    100000 non-null float64\n",
      "dtypes: float64(1), object(1)\n",
      "memory usage: 2.3+ MB\n"
     ]
    }
   ],
   "source": [
    "train_duel_win.info()"
   ]
  },
  {
   "cell_type": "code",
   "execution_count": 10,
   "metadata": {},
   "outputs": [],
   "source": [
    "train_duel_win = pd.merge(train_duel_win, train_label, how = 'outer', on = 'acc_id')"
   ]
  },
  {
   "cell_type": "code",
   "execution_count": 11,
   "metadata": {},
   "outputs": [
    {
     "data": {
      "text/html": [
       "<div>\n",
       "<style scoped>\n",
       "    .dataframe tbody tr th:only-of-type {\n",
       "        vertical-align: middle;\n",
       "    }\n",
       "\n",
       "    .dataframe tbody tr th {\n",
       "        vertical-align: top;\n",
       "    }\n",
       "\n",
       "    .dataframe thead th {\n",
       "        text-align: right;\n",
       "    }\n",
       "</style>\n",
       "<table border=\"1\" class=\"dataframe\">\n",
       "  <thead>\n",
       "    <tr style=\"text-align: right;\">\n",
       "      <th></th>\n",
       "      <th>acc_id</th>\n",
       "      <th>duel_win</th>\n",
       "      <th>label</th>\n",
       "    </tr>\n",
       "  </thead>\n",
       "  <tbody>\n",
       "    <tr>\n",
       "      <th>0</th>\n",
       "      <td>0000264b01392acfde44f9d8494f112a701dc5d3e5fda6...</td>\n",
       "      <td>-0.041326</td>\n",
       "      <td>week</td>\n",
       "    </tr>\n",
       "    <tr>\n",
       "      <th>1</th>\n",
       "      <td>0001f130e89288ff0df167b998f6eb7085687f411fcb72...</td>\n",
       "      <td>-0.041326</td>\n",
       "      <td>retained</td>\n",
       "    </tr>\n",
       "    <tr>\n",
       "      <th>2</th>\n",
       "      <td>00028f0ad71c07f48aef465fd0c98ba6e3f0f3de3d2f7d...</td>\n",
       "      <td>-0.041326</td>\n",
       "      <td>retained</td>\n",
       "    </tr>\n",
       "    <tr>\n",
       "      <th>3</th>\n",
       "      <td>00036e5b6a197c196fa10fc0ad4e2853b22294dff64d27...</td>\n",
       "      <td>-0.041326</td>\n",
       "      <td>month</td>\n",
       "    </tr>\n",
       "    <tr>\n",
       "      <th>4</th>\n",
       "      <td>00037fe8e712041a476b8b1b827583cbc34895844057f0...</td>\n",
       "      <td>-0.041326</td>\n",
       "      <td>2month</td>\n",
       "    </tr>\n",
       "  </tbody>\n",
       "</table>\n",
       "</div>"
      ],
      "text/plain": [
       "                                              acc_id  duel_win     label\n",
       "0  0000264b01392acfde44f9d8494f112a701dc5d3e5fda6... -0.041326      week\n",
       "1  0001f130e89288ff0df167b998f6eb7085687f411fcb72... -0.041326  retained\n",
       "2  00028f0ad71c07f48aef465fd0c98ba6e3f0f3de3d2f7d... -0.041326  retained\n",
       "3  00036e5b6a197c196fa10fc0ad4e2853b22294dff64d27... -0.041326     month\n",
       "4  00037fe8e712041a476b8b1b827583cbc34895844057f0... -0.041326    2month"
      ]
     },
     "execution_count": 11,
     "metadata": {},
     "output_type": "execute_result"
    }
   ],
   "source": [
    "train_duel_win.head()"
   ]
  },
  {
   "cell_type": "code",
   "execution_count": 12,
   "metadata": {},
   "outputs": [
    {
     "data": {
      "text/plain": [
       "month       25000\n",
       "week        25000\n",
       "retained    25000\n",
       "2month      25000\n",
       "Name: label, dtype: int64"
      ]
     },
     "execution_count": 12,
     "metadata": {},
     "output_type": "execute_result"
    }
   ],
   "source": [
    "train_duel_win['label'].value_counts()"
   ]
  },
  {
   "cell_type": "code",
   "execution_count": 13,
   "metadata": {},
   "outputs": [],
   "source": [
    "train_duel_win = train_duel_win[train_duel_win['duel_win'] >= -0.040]"
   ]
  },
  {
   "cell_type": "code",
   "execution_count": 14,
   "metadata": {},
   "outputs": [
    {
     "data": {
      "text/html": [
       "<div>\n",
       "<style scoped>\n",
       "    .dataframe tbody tr th:only-of-type {\n",
       "        vertical-align: middle;\n",
       "    }\n",
       "\n",
       "    .dataframe tbody tr th {\n",
       "        vertical-align: top;\n",
       "    }\n",
       "\n",
       "    .dataframe thead th {\n",
       "        text-align: right;\n",
       "    }\n",
       "</style>\n",
       "<table border=\"1\" class=\"dataframe\">\n",
       "  <thead>\n",
       "    <tr style=\"text-align: right;\">\n",
       "      <th></th>\n",
       "      <th>acc_id</th>\n",
       "      <th>duel_win</th>\n",
       "      <th>label</th>\n",
       "    </tr>\n",
       "  </thead>\n",
       "  <tbody>\n",
       "    <tr>\n",
       "      <th>20</th>\n",
       "      <td>000c7d37960d5261d7680320227e07e53580f654cf0322...</td>\n",
       "      <td>0.446173</td>\n",
       "      <td>retained</td>\n",
       "    </tr>\n",
       "    <tr>\n",
       "      <th>24</th>\n",
       "      <td>000f75da470b53684a56be7c49083451cfa58db4573900...</td>\n",
       "      <td>-0.035076</td>\n",
       "      <td>retained</td>\n",
       "    </tr>\n",
       "    <tr>\n",
       "      <th>32</th>\n",
       "      <td>001a711324abb3f8c487779f6be2cdc052918390eba1b6...</td>\n",
       "      <td>1.821169</td>\n",
       "      <td>retained</td>\n",
       "    </tr>\n",
       "    <tr>\n",
       "      <th>39</th>\n",
       "      <td>001ed54e52274af3df2789074a12e1548c6d8b01b358eb...</td>\n",
       "      <td>6.483657</td>\n",
       "      <td>retained</td>\n",
       "    </tr>\n",
       "    <tr>\n",
       "      <th>60</th>\n",
       "      <td>002dadfab4581c8bc6d48c5405a24e3280f0230249962c...</td>\n",
       "      <td>0.196174</td>\n",
       "      <td>retained</td>\n",
       "    </tr>\n",
       "  </tbody>\n",
       "</table>\n",
       "</div>"
      ],
      "text/plain": [
       "                                               acc_id  duel_win     label\n",
       "20  000c7d37960d5261d7680320227e07e53580f654cf0322...  0.446173  retained\n",
       "24  000f75da470b53684a56be7c49083451cfa58db4573900... -0.035076  retained\n",
       "32  001a711324abb3f8c487779f6be2cdc052918390eba1b6...  1.821169  retained\n",
       "39  001ed54e52274af3df2789074a12e1548c6d8b01b358eb...  6.483657  retained\n",
       "60  002dadfab4581c8bc6d48c5405a24e3280f0230249962c...  0.196174  retained"
      ]
     },
     "execution_count": 14,
     "metadata": {},
     "output_type": "execute_result"
    }
   ],
   "source": [
    "train_duel_win.head()"
   ]
  },
  {
   "cell_type": "code",
   "execution_count": 15,
   "metadata": {},
   "outputs": [
    {
     "name": "stdout",
     "output_type": "stream",
     "text": [
      "<class 'pandas.core.frame.DataFrame'>\n",
      "Int64Index: 7603 entries, 20 to 99981\n",
      "Data columns (total 3 columns):\n",
      "acc_id      7603 non-null object\n",
      "duel_win    7603 non-null float64\n",
      "label       7603 non-null object\n",
      "dtypes: float64(1), object(2)\n",
      "memory usage: 237.6+ KB\n"
     ]
    }
   ],
   "source": [
    "train_duel_win.info()"
   ]
  },
  {
   "cell_type": "code",
   "execution_count": 16,
   "metadata": {},
   "outputs": [
    {
     "data": {
      "text/plain": [
       "retained    6004\n",
       "2month       683\n",
       "month        488\n",
       "week         428\n",
       "Name: label, dtype: int64"
      ]
     },
     "execution_count": 16,
     "metadata": {},
     "output_type": "execute_result"
    }
   ],
   "source": [
    "train_duel_win['label'].value_counts()"
   ]
  },
  {
   "cell_type": "code",
   "execution_count": 17,
   "metadata": {},
   "outputs": [],
   "source": [
    "mapping = {'week':0, 'month':1, '2month':2, 'retained':3}"
   ]
  },
  {
   "cell_type": "code",
   "execution_count": 18,
   "metadata": {},
   "outputs": [],
   "source": [
    "train_duel_win['label'] = train_duel_win['label'].map(mapping)"
   ]
  },
  {
   "cell_type": "code",
   "execution_count": 19,
   "metadata": {},
   "outputs": [
    {
     "data": {
      "text/html": [
       "<div>\n",
       "<style scoped>\n",
       "    .dataframe tbody tr th:only-of-type {\n",
       "        vertical-align: middle;\n",
       "    }\n",
       "\n",
       "    .dataframe tbody tr th {\n",
       "        vertical-align: top;\n",
       "    }\n",
       "\n",
       "    .dataframe thead th {\n",
       "        text-align: right;\n",
       "    }\n",
       "</style>\n",
       "<table border=\"1\" class=\"dataframe\">\n",
       "  <thead>\n",
       "    <tr style=\"text-align: right;\">\n",
       "      <th></th>\n",
       "      <th>acc_id</th>\n",
       "      <th>duel_win</th>\n",
       "      <th>label</th>\n",
       "    </tr>\n",
       "  </thead>\n",
       "  <tbody>\n",
       "    <tr>\n",
       "      <th>20</th>\n",
       "      <td>000c7d37960d5261d7680320227e07e53580f654cf0322...</td>\n",
       "      <td>0.446173</td>\n",
       "      <td>3</td>\n",
       "    </tr>\n",
       "    <tr>\n",
       "      <th>24</th>\n",
       "      <td>000f75da470b53684a56be7c49083451cfa58db4573900...</td>\n",
       "      <td>-0.035076</td>\n",
       "      <td>3</td>\n",
       "    </tr>\n",
       "    <tr>\n",
       "      <th>32</th>\n",
       "      <td>001a711324abb3f8c487779f6be2cdc052918390eba1b6...</td>\n",
       "      <td>1.821169</td>\n",
       "      <td>3</td>\n",
       "    </tr>\n",
       "    <tr>\n",
       "      <th>39</th>\n",
       "      <td>001ed54e52274af3df2789074a12e1548c6d8b01b358eb...</td>\n",
       "      <td>6.483657</td>\n",
       "      <td>3</td>\n",
       "    </tr>\n",
       "    <tr>\n",
       "      <th>60</th>\n",
       "      <td>002dadfab4581c8bc6d48c5405a24e3280f0230249962c...</td>\n",
       "      <td>0.196174</td>\n",
       "      <td>3</td>\n",
       "    </tr>\n",
       "  </tbody>\n",
       "</table>\n",
       "</div>"
      ],
      "text/plain": [
       "                                               acc_id  duel_win  label\n",
       "20  000c7d37960d5261d7680320227e07e53580f654cf0322...  0.446173      3\n",
       "24  000f75da470b53684a56be7c49083451cfa58db4573900... -0.035076      3\n",
       "32  001a711324abb3f8c487779f6be2cdc052918390eba1b6...  1.821169      3\n",
       "39  001ed54e52274af3df2789074a12e1548c6d8b01b358eb...  6.483657      3\n",
       "60  002dadfab4581c8bc6d48c5405a24e3280f0230249962c...  0.196174      3"
      ]
     },
     "execution_count": 19,
     "metadata": {},
     "output_type": "execute_result"
    }
   ],
   "source": [
    "train_duel_win.head()"
   ]
  },
  {
   "cell_type": "code",
   "execution_count": 20,
   "metadata": {},
   "outputs": [
    {
     "name": "stdout",
     "output_type": "stream",
     "text": [
      "<class 'pandas.core.frame.DataFrame'>\n",
      "Int64Index: 7603 entries, 20 to 99981\n",
      "Data columns (total 3 columns):\n",
      "acc_id      7603 non-null object\n",
      "duel_win    7603 non-null float64\n",
      "label       7603 non-null int64\n",
      "dtypes: float64(1), int64(1), object(1)\n",
      "memory usage: 237.6+ KB\n"
     ]
    }
   ],
   "source": [
    "train_duel_win.info()"
   ]
  },
  {
   "cell_type": "code",
   "execution_count": 30,
   "metadata": {},
   "outputs": [
    {
     "data": {
      "text/plain": [
       "180.3082065960915"
      ]
     },
     "execution_count": 30,
     "metadata": {},
     "output_type": "execute_result"
    }
   ],
   "source": [
    "train_duel_win['duel_win'].max()"
   ]
  },
  {
   "cell_type": "markdown",
   "metadata": {},
   "source": [
    "# Scatter"
   ]
  },
  {
   "cell_type": "code",
   "execution_count": 32,
   "metadata": {},
   "outputs": [
    {
     "data": {
      "text/plain": [
       "<seaborn.axisgrid.FacetGrid at 0x2cf13d45ac8>"
      ]
     },
     "execution_count": 32,
     "metadata": {},
     "output_type": "execute_result"
    },
    {
     "data": {
      "image/png": "[encoded data removed]",
      "text/plain": [
       "<matplotlib.figure.Figure at 0x2cf13d45be0>"
      ]
     },
     "metadata": {},
     "output_type": "display_data"
    }
   ],
   "source": [
    "sns.relplot(x='label', y = 'duel_win', data=train_duel_win)"
   ]
  },
  {
   "cell_type": "code",
   "execution_count": 24,
   "metadata": {},
   "outputs": [
    {
     "data": {
      "image/png": "[encoded data removed]",
      "text/plain": [
       "<matplotlib.figure.Figure at 0x2cf122bef28>"
      ]
     },
     "metadata": {},
     "output_type": "display_data"
    }
   ],
   "source": [
    "plt.hist(train_duel_win['label'])\n",
    "plt.show()"
   ]
  },
  {
   "cell_type": "code",
   "execution_count": 25,
   "metadata": {},
   "outputs": [
    {
     "data": {
      "image/png": "[encoded data removed]",
      "text/plain": [
       "<matplotlib.figure.Figure at 0x2cf12306b38>"
      ]
     },
     "metadata": {},
     "output_type": "display_data"
    }
   ],
   "source": [
    "plt.scatter(train_duel_win['label'],train_duel_win['duel_win'])\n",
    "plt.show()"
   ]
  },
  {
   "cell_type": "markdown",
   "metadata": {},
   "source": [
    "# Categorical scatterplots"
   ]
  },
  {
   "cell_type": "code",
   "execution_count": 49,
   "metadata": {},
   "outputs": [],
   "source": [
    "sns.set(style=\"ticks\", color_codes=True)"
   ]
  },
  {
   "cell_type": "code",
   "execution_count": 70,
   "metadata": {},
   "outputs": [
    {
     "data": {
      "text/plain": [
       "<seaborn.axisgrid.FacetGrid at 0x2cf145362e8>"
      ]
     },
     "execution_count": 70,
     "metadata": {},
     "output_type": "execute_result"
    },
    {
     "data": {
      "image/png": "[encoded data removed]",
      "text/plain": [
       "<matplotlib.figure.Figure at 0x2cf148bceb8>"
      ]
     },
     "metadata": {},
     "output_type": "display_data"
    }
   ],
   "source": [
    "sns.catplot(x = 'label', y = 'duel_win', data=train_duel_win.query('duel_win < 5'))"
   ]
  },
  {
   "cell_type": "code",
   "execution_count": 51,
   "metadata": {},
   "outputs": [
    {
     "data": {
      "text/plain": [
       "<seaborn.axisgrid.FacetGrid at 0x2cf141fb550>"
      ]
     },
     "execution_count": 51,
     "metadata": {},
     "output_type": "execute_result"
    },
    {
     "data": {
      "image/png": "[encoded data removed]",
      "text/plain": [
       "<matplotlib.figure.Figure at 0x2cf141ef940>"
      ]
     },
     "metadata": {},
     "output_type": "display_data"
    }
   ],
   "source": [
    "sns.catplot(x = 'label', y = 'duel_win',jitter = False, data=train_duel_win)"
   ]
  },
  {
   "cell_type": "markdown",
   "metadata": {},
   "source": [
    "### 'Swarm' just for small data"
   ]
  },
  {
   "cell_type": "code",
   "execution_count": 52,
   "metadata": {},
   "outputs": [],
   "source": [
    "#sns.catplot(x = 'label', y = 'duel_win',kind = 'swarm', data=train_duel_win)"
   ]
  },
  {
   "cell_type": "code",
   "execution_count": 53,
   "metadata": {},
   "outputs": [],
   "source": [
    "# ax = sns.swarmplot(x='label', y='duel_win', data=train_duel_win, color='.25')"
   ]
  },
  {
   "cell_type": "markdown",
   "metadata": {},
   "source": [
    "# Box plot"
   ]
  },
  {
   "cell_type": "code",
   "execution_count": 63,
   "metadata": {},
   "outputs": [
    {
     "data": {
      "text/plain": [
       "<seaborn.axisgrid.FacetGrid at 0x2cf143dbbe0>"
      ]
     },
     "execution_count": 63,
     "metadata": {},
     "output_type": "execute_result"
    },
    {
     "data": {
      "image/png": "[encoded data removed]",
      "text/plain": [
       "<matplotlib.figure.Figure at 0x2cf145a9c18>"
      ]
     },
     "metadata": {},
     "output_type": "display_data"
    }
   ],
   "source": [
    "sns.catplot(x='label', y='duel_win', kind='box', data=train_duel_win)"
   ]
  },
  {
   "cell_type": "code",
   "execution_count": 66,
   "metadata": {},
   "outputs": [
    {
     "data": {
      "text/plain": [
       "<seaborn.axisgrid.FacetGrid at 0x2cf147baac8>"
      ]
     },
     "execution_count": 66,
     "metadata": {},
     "output_type": "execute_result"
    },
    {
     "data": {
      "image/png": "[encoded data removed]",
      "text/plain": [
       "<matplotlib.figure.Figure at 0x2cf147394a8>"
      ]
     },
     "metadata": {},
     "output_type": "display_data"
    }
   ],
   "source": [
    "sns.catplot(x='label', y='duel_win', kind='box', data=train_duel_win.query('duel_win < 1'))"
   ]
  },
  {
   "cell_type": "code",
   "execution_count": 67,
   "metadata": {},
   "outputs": [
    {
     "data": {
      "text/plain": [
       "<seaborn.axisgrid.FacetGrid at 0x2cf147e2d30>"
      ]
     },
     "execution_count": 67,
     "metadata": {},
     "output_type": "execute_result"
    },
    {
     "data": {
      "image/png": "[encoded data removed]",
      "text/plain": [
       "<matplotlib.figure.Figure at 0x2cf147e2a20>"
      ]
     },
     "metadata": {},
     "output_type": "display_data"
    }
   ],
   "source": [
    "sns.catplot(x='label', y='duel_win', kind='boxen', data=train_duel_win.query('duel_win <1'))"
   ]
  },
  {
   "cell_type": "code",
   "execution_count": 29,
   "metadata": {},
   "outputs": [
    {
     "data": {
      "text/plain": [
       "'0.9.0'"
      ]
     },
     "execution_count": 29,
     "metadata": {},
     "output_type": "execute_result"
    }
   ],
   "source": [
    "sns.__version__"
   ]
  },
  {
   "cell_type": "code",
   "execution_count": null,
   "metadata": {},
   "outputs": [],
   "source": []
  }
 ],
 "metadata": {
  "kernelspec": {
   "display_name": "Python 3",
   "language": "python",
   "name": "python3"
  },
  "language_info": {
   "codemirror_mode": {
    "name": "ipython",
    "version": 3
   },
   "file_extension": ".py",
   "mimetype": "text/x-python",
   "name": "python",
   "nbconvert_exporter": "python",
   "pygments_lexer": "ipython3",
   "version": "3.6.4"
  }
 },
 "nbformat": 4,
 "nbformat_minor": 2
}
